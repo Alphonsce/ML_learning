{
 "cells": [
  {
   "cell_type": "code",
   "execution_count": 141,
   "metadata": {},
   "outputs": [],
   "source": [
    "import pandas as pd\n",
    "import numpy as np\n",
    "import matplotlib.pyplot as plt\n",
    "from sklearn.model_selection import train_test_split\n",
    "from sklearn.tree import DecisionTreeClassifier"
   ]
  },
  {
   "cell_type": "code",
   "execution_count": 142,
   "metadata": {},
   "outputs": [],
   "source": [
    "train_df = pd.read_csv('train.csv')\n",
    "test_df = pd.read_csv('test.csv')\n",
    "\n",
    "Ids = test_df['PassengerId']"
   ]
  },
  {
   "cell_type": "markdown",
   "metadata": {},
   "source": [
    "Preparing train data:"
   ]
  },
  {
   "cell_type": "code",
   "execution_count": 143,
   "metadata": {},
   "outputs": [],
   "source": [
    "train_df = train_df.dropna(axis=0, how='any')   # чтобы D3 работало нормально откидываем строки\n",
    "train_df.loc[train_df['Sex'] == 'male', 'Sex'] = 1.0\n",
    "train_df.loc[train_df['Sex'] == 'female', 'Sex'] = 0.0\n",
    "\n",
    "X = train_df.loc[:, ['Pclass', 'Fare', 'Age', 'Sex']]\n",
    "y = train_df['Survived']"
   ]
  },
  {
   "cell_type": "markdown",
   "metadata": {},
   "source": [
    "Preparing test data:"
   ]
  },
  {
   "cell_type": "code",
   "execution_count": 144,
   "metadata": {},
   "outputs": [],
   "source": [
    "test_df.loc[test_df['Sex'] == 'male', 'Sex'] = 1.0\n",
    "test_df.loc[test_df['Sex'] == 'female', 'Sex'] = 0.0\n",
    "test_df = test_df.loc[:, ['Pclass', 'Fare', 'Age', 'Sex']]\n",
    "test_df = test_df.fillna(test_df.mean())    # в тестовом датасете заменяем пропуски на средние значения"
   ]
  },
  {
   "cell_type": "markdown",
   "metadata": {},
   "source": [
    "Making classifier:"
   ]
  },
  {
   "cell_type": "code",
   "execution_count": 145,
   "metadata": {},
   "outputs": [
    {
     "data": {
      "text/plain": [
       "DecisionTreeClassifier(random_state=20)"
      ]
     },
     "execution_count": 145,
     "metadata": {},
     "output_type": "execute_result"
    }
   ],
   "source": [
    "clf = DecisionTreeClassifier(random_state=20)\n",
    "clf.fit(X, y)"
   ]
  },
  {
   "cell_type": "code",
   "execution_count": 151,
   "metadata": {},
   "outputs": [],
   "source": [
    "predicted_classes = clf.predict(test_df)\n",
    "predicted_classes = pd.DataFrame(predicted_classes, columns=['Survived'])\n",
    "\n",
    "result_df = pd.concat([Ids, predicted_classes], axis=1)     # объединить колонки из датасетов, axis=0 если объединить строчки"
   ]
  },
  {
   "cell_type": "code",
   "execution_count": 155,
   "metadata": {},
   "outputs": [],
   "source": [
    "result_df.to_csv('/home/alphonse/ML_learning/coursera_HSE/second_task/predictions.csv', index=False)\n",
    "# index отвечает всегда за названия строчек, а columns отвечает за названия столбцов"
   ]
  }
 ],
 "metadata": {
  "interpreter": {
   "hash": "7d4cf494ad81a5a54848ff8fadb6547e3006bc8364153c5b8ef473878991d3ff"
  },
  "kernelspec": {
   "display_name": "Python 3.8.10 64-bit ('env': venv)",
   "language": "python",
   "name": "python3"
  },
  "language_info": {
   "codemirror_mode": {
    "name": "ipython",
    "version": 3
   },
   "file_extension": ".py",
   "mimetype": "text/x-python",
   "name": "python",
   "nbconvert_exporter": "python",
   "pygments_lexer": "ipython3",
   "version": "3.8.10"
  },
  "orig_nbformat": 4
 },
 "nbformat": 4,
 "nbformat_minor": 2
}
