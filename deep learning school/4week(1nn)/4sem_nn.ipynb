{
  "cells": [
    {
      "cell_type": "markdown",
      "metadata": {
        "id": "D4GdBvkZOp8M"
      },
      "source": [
        "# Обучение нейронной сети с использованием PyTorch\n",
        "\n",
        "В этом блокноте мы создадим и обучим простую нейронную сеть с помощью PyTorch. Наша цель - показать основы фреймворка Torch и достичь простого понимания того, как выглядит решение разных задач с помощью нейронных сетей."
      ]
    },
    {
      "cell_type": "code",
      "execution_count": 35,
      "metadata": {
        "id": "x4kC-U8dOpZU"
      },
      "outputs": [],
      "source": [
        "import torch  "
      ]
    },
    {
      "cell_type": "code",
      "execution_count": 36,
      "metadata": {
        "colab": {
          "base_uri": "https://localhost:8080/"
        },
        "id": "DiMnj_xTWFW3",
        "outputId": "7616e097-2aa1-46d1-868f-1b8427c7d2f7"
      },
      "outputs": [
        {
          "data": {
            "text/plain": [
              "device(type='cuda', index=0)"
            ]
          },
          "execution_count": 36,
          "metadata": {},
          "output_type": "execute_result"
        }
      ],
      "source": [
        "# Определяем на чем у нас будут производиться вычисления (cuda/cpu)\n",
        "device = torch.device('cuda:0') if torch.cuda.is_available else torch.device('cpu')  \n",
        "device"
      ]
    },
    {
      "cell_type": "markdown",
      "metadata": {
        "id": "t4BjZJQ2PdGw"
      },
      "source": [
        "\n",
        "\n",
        "## Подготовка датасета\n",
        "\n",
        "Здесь мы узнаем некоторые базовые функции и классы подготовки данных из **PyTorch** как:\n",
        "\n",
        "- `torch.utils.data.Dataset` and `torch.utils.data.DataLoader`\n",
        "- dataset downloading api\n",
        "\n",
        "Для начала мы определим нашу проблему. Здесь мы загружаем набор данных MNIST (с PyTorch API)\n",
        "\n",
        "MNIST:\n",
        "- 28x28 изображений из `0`, `1`, .. `9`\n",
        "- каждый пиксель серый (float value in [0, 1))\n",
        "- targets это целое значение в диапазоне [0, 9] (10 классов)\n",
        "- объекты ($x_i$, $y_i$), где $x_i$ размера (1, 28, 28), $y_i$ это значение int\n",
        "\n",
        "Для наших целей мы вытяним входные данные ($ x $), чтобы наши данные во время обучения имели формы:\n",
        "\n",
        "- `x_batch` размера `(batch_size, 784)`\n",
        "- `y_batch` размера `(batch_size)`\n",
        "\n"
      ]
    },
    {
      "cell_type": "code",
      "execution_count": 37,
      "metadata": {
        "id": "4-L2wfz7Pczm"
      },
      "outputs": [],
      "source": [
        "from torchvision.datasets import MNIST\n",
        "import torchvision.transforms as tfs"
      ]
    },
    {
      "cell_type": "code",
      "execution_count": 38,
      "metadata": {
        "id": "67geRKgxUKcV"
      },
      "outputs": [],
      "source": [
        "data_tfs = tfs.Compose([\n",
        "  tfs.ToTensor(),\n",
        "  tfs.Normalize((0.5), (0.5))\n",
        "])"
      ]
    },
    {
      "cell_type": "code",
      "execution_count": 39,
      "metadata": {
        "id": "KrrlpkzbQxbl"
      },
      "outputs": [],
      "source": [
        "# install for train and test\n",
        "root = './'\n",
        "train = MNIST(root, train=True,  transform=data_tfs, download=True)\n",
        "test  = MNIST(root, train=False, transform=data_tfs, download=True)"
      ]
    },
    {
      "cell_type": "code",
      "execution_count": 40,
      "metadata": {
        "colab": {
          "base_uri": "https://localhost:8080/"
        },
        "id": "X4gMHMSBTdEm",
        "outputId": "0022ccd9-3dcb-469f-9310-5a45b4211343"
      },
      "outputs": [
        {
          "name": "stdout",
          "output_type": "stream",
          "text": [
            "Data size:\n",
            "\t train 60000,\n",
            "\t test 10000\n",
            "Data shape:\n",
            "\t features torch.Size([1, 28, 28]),\n",
            "\t target <class 'int'>\n"
          ]
        }
      ],
      "source": [
        "print(f'Data size:\\n\\t train {len(train)},\\n\\t test {len(test)}')\n",
        "print(f'Data shape:\\n\\t features {train[0][0].shape},\\n\\t target {type(test[0][1])}')"
      ]
    },
    {
      "cell_type": "markdown",
      "metadata": {
        "id": "omdMTw-XTDz5"
      },
      "source": [
        "Заметьте! Нам не нужно реализовывать batch loader самостоятельно. Давайте воспользуемся его реализацией в torch, которая называется `DataLoader` из `torch.utils.data`."
      ]
    },
    {
      "cell_type": "code",
      "execution_count": 41,
      "metadata": {
        "id": "oTbQiE7DTDMG"
      },
      "outputs": [],
      "source": [
        "from torch.utils.data import DataLoader\n",
        "\n",
        "batch_size = 128\n",
        "\n",
        "train_loader = DataLoader(train, batch_size=batch_size, drop_last=True)\n",
        "test_loader = DataLoader(test, batch_size=batch_size, drop_last=True)"
      ]
    },
    {
      "cell_type": "markdown",
      "metadata": {
        "id": "QQHVFq88w_h3"
      },
      "source": [
        "Батчи нужны, потому что нельзя взять и залить в память весь датасет, тогда у нас может не хватить памяти либо не останется ее на вычисления, лучше постепенно проходиться по датасету, поделенному на батчи. Соответственно теперь мы после прохода по каждому батчу будем вычислять лосс для этого батча и обновлять весы - стохастический градиентный спуск. Один проход по всем батчам - одна эпоха. (то бишь полный проход по датасету)"
      ]
    },
    {
      "cell_type": "code",
      "execution_count": 42,
      "metadata": {
        "colab": {
          "base_uri": "https://localhost:8080/"
        },
        "id": "MkQ86w8fXFXL",
        "outputId": "05866c1c-e9b3-4a6a-f162-ca013a513a64"
      },
      "outputs": [
        {
          "data": {
            "text/plain": [
              "(torch.Size([128, 1, 28, 28]), torch.Size([128]))"
            ]
          },
          "execution_count": 42,
          "metadata": {},
          "output_type": "execute_result"
        }
      ],
      "source": [
        "x_batch, y_batch = next(iter(train_loader))\n",
        "x_batch.shape, y_batch.shape"
      ]
    },
    {
      "cell_type": "code",
      "execution_count": 43,
      "metadata": {
        "colab": {
          "base_uri": "https://localhost:8080/"
        },
        "id": "rlyBmehbvHAD",
        "outputId": "d108b5a6-dfdd-47fa-fbf9-ad302f042704"
      },
      "outputs": [
        {
          "data": {
            "text/plain": [
              "torch.Size([128, 784])"
            ]
          },
          "execution_count": 43,
          "metadata": {},
          "output_type": "execute_result"
        }
      ],
      "source": [
        "x_batch.reshape(x_batch.shape[0], -1).shape"
      ]
    },
    {
      "cell_type": "markdown",
      "metadata": {
        "id": "4brdJhe0XeKm"
      },
      "source": [
        "Наконец, мы подготовили наши данные, поэтому теперь мы создадим некоторую модель для классификации изображений!"
      ]
    },
    {
      "cell_type": "markdown",
      "metadata": {
        "id": "-niriIktOclz"
      },
      "source": [
        "## Модель и обучение (of abnormal people)\n",
        "\n",
        "\n",
        "Теперь посмотрим, как **torch** вычисляет функции градиента во время вычисления выражения. Используя метод `.backward ()` для выражени, **мы передаем граф вычисления градиента до листьев**, которые являются надежными для параметров нашей модели.\n",
        "\n",
        "Таким образом, мы используем эти знания, чтобы найти оптимальные веса некоторой модели, которая представлена ​​некоторым выражением.\n",
        "\n",
        "Предположем,\n",
        "1. Мы хотим обучить линейную модель.\n",
        "2. Для каждого класса мы используем собственные веса для вычисления `logits` (логитов).\n",
        "3. Мы используем `softmax` на логитах для вероятностей каждого класса.\n",
        "4. Обучайте партии с помощью `sgd`."
      ]
    },
    {
      "cell_type": "code",
      "execution_count": 44,
      "metadata": {
        "id": "ZwQ0rR_EZiGL"
      },
      "outputs": [],
      "source": [
        "features = 784\n",
        "classes = 10"
      ]
    },
    {
      "cell_type": "markdown",
      "metadata": {
        "id": "z37SHesvsU61"
      },
      "source": [
        "Создадим вектор весов:"
      ]
    },
    {
      "cell_type": "code",
      "execution_count": 45,
      "metadata": {
        "colab": {
          "base_uri": "https://localhost:8080/"
        },
        "id": "KZ-qXVG5mVq3",
        "outputId": "47089bc7-b779-4b25-b85f-e3cca8ca16dc"
      },
      "outputs": [
        {
          "data": {
            "text/plain": [
              "tensor([[ 0.0018,  0.0175, -0.0019,  ..., -0.0036,  0.0199, -0.0247],\n",
              "        [-0.0342,  0.0012,  0.0281,  ...,  0.0313,  0.0103,  0.0078],\n",
              "        [-0.0195, -0.0227, -0.0207,  ..., -0.0005,  0.0299, -0.0140],\n",
              "        ...,\n",
              "        [-0.0204,  0.0022, -0.0150,  ..., -0.0309,  0.0334,  0.0046],\n",
              "        [-0.0304, -0.0164,  0.0031,  ..., -0.0017, -0.0023,  0.0162],\n",
              "        [-0.0137,  0.0281, -0.0314,  ...,  0.0216,  0.0137, -0.0098]],\n",
              "       requires_grad=True)"
            ]
          },
          "execution_count": 45,
          "metadata": {},
          "output_type": "execute_result"
        }
      ],
      "source": [
        "W = torch.FloatTensor(features, classes).uniform_(-1, 1) / features ** 0.5\n",
        "W.requires_grad_()"
      ]
    },
    {
      "cell_type": "markdown",
      "metadata": {
        "id": "PUVgNd-LaRhZ"
      },
      "source": [
        "SGD цикл обучения (здесь просто написан один линейный слой с весами и потом сразу софтмакс от взвешенных сумм - то есть тут просто логрег)"
      ]
    },
    {
      "cell_type": "code",
      "execution_count": 46,
      "metadata": {
        "id": "v6lQU1rgaWjY"
      },
      "outputs": [],
      "source": [
        "epochs = 3\n",
        "lr=1e-2\n",
        "history = []"
      ]
    },
    {
      "cell_type": "code",
      "execution_count": 47,
      "metadata": {
        "id": "QMBcROViilwY"
      },
      "outputs": [],
      "source": [
        "import numpy as np\n",
        "from torch.nn.functional import cross_entropy\n",
        "\n",
        "#КРОСС-ЭНТРОПИЯ ЗДЕСЬ БЕРЁТСЯ ОТ ЛОГИТОВ, А НЕ ОТ ВЕРОЯТНОСТЕЙ!"
      ]
    },
    {
      "cell_type": "code",
      "execution_count": 48,
      "metadata": {
        "colab": {
          "base_uri": "https://localhost:8080/"
        },
        "id": "V1Cqa86BOWu1",
        "outputId": "b6c7e467-4f42-4259-a6fc-7dfb796ab735"
      },
      "outputs": [
        {
          "name": "stdout",
          "output_type": "stream",
          "text": [
            "1,\t loss: 0.19854019582271576\n",
            "2,\t loss: 0.14251159131526947\n",
            "3,\t loss: 0.12225989997386932\n"
          ]
        }
      ],
      "source": [
        "for i in range(epochs):\n",
        "  for x_batch, y_batch in train_loader:\n",
        "    \n",
        "    # загружаем батч данных (вытянутый в линию)\n",
        "    x_batch = x_batch.reshape(x_batch.shape[0], -1)     # вытяняем картинку в вектор фичей для простоты\n",
        "\n",
        "    # вычисляем функцию потерь (log loss, также известная как кросс-энтропия)\n",
        "    logits = x_batch @ W\n",
        "    probabilities = torch.exp(logits) / torch.exp(logits).sum(dim=1, keepdims=True)\n",
        "    \n",
        "    loss = -torch.log(probabilities[range(batch_size), y_batch]).mean()\n",
        "    history.append(loss.item())\n",
        "\n",
        "    # вычисляем градиенты\n",
        "    loss.backward()     # он сразу видит от кого он там зависит и считает все частные производные для L как раз по всем нужным переменным по очереди\n",
        "\n",
        "    # делаем шаг градиентного спуска\n",
        "    grad = W.grad\n",
        "    with torch.no_grad():\n",
        "      W -= lr * grad\n",
        "    W.grad.zero_()\n",
        "\n",
        "  print(f'{i+1},\\t loss: {history[-1]}')"
      ]
    },
    {
      "cell_type": "markdown",
      "metadata": {
        "id": "a4_T6SIEevn6"
      },
      "source": [
        "И, конечно же, мы может построить график для loss (функции потерь) во время обучения."
      ]
    },
    {
      "cell_type": "code",
      "execution_count": 49,
      "metadata": {
        "id": "K-pkgEBtfyIU"
      },
      "outputs": [],
      "source": [
        "import matplotlib.pyplot as plt"
      ]
    },
    {
      "cell_type": "code",
      "execution_count": 50,
      "metadata": {
        "colab": {
          "base_uri": "https://localhost:8080/",
          "height": 458
        },
        "id": "ISFcr5Pab8tZ",
        "outputId": "8218307a-ed49-4ee9-8c4e-f11dd8fc7db9"
      },
      "outputs": [
        {
          "data": {
            "image/png": "[encoded data removed]",
            "text/plain": [
              "<Figure size 720x504 with 1 Axes>"
            ]
          },
          "metadata": {
            "needs_background": "light"
          },
          "output_type": "display_data"
        }
      ],
      "source": [
        "plt.figure(figsize=(10, 7))\n",
        "\n",
        "plt.plot(history)\n",
        "\n",
        "plt.title('Loss by batch iterations')\n",
        "plt.ylabel('Entropy Loss')\n",
        "plt.xlabel('batches')\n",
        "\n",
        "plt.show()"
      ]
    },
    {
      "cell_type": "markdown",
      "metadata": {
        "id": "zDAEdkQsovxN"
      },
      "source": [
        "Посмотрим некоторые показатели качества для нашей линейной модели"
      ]
    },
    {
      "cell_type": "code",
      "execution_count": 51,
      "metadata": {
        "id": "PNtRCtcJfktA"
      },
      "outputs": [],
      "source": [
        "from sklearn.metrics import accuracy_score"
      ]
    },
    {
      "cell_type": "code",
      "execution_count": 52,
      "metadata": {
        "colab": {
          "base_uri": "https://localhost:8080/"
        },
        "id": "GwR-p1UXo-PT",
        "outputId": "4d3a4e3a-fa65-43d5-a4e5-7146698db567"
      },
      "outputs": [
        {
          "name": "stdout",
          "output_type": "stream",
          "text": [
            "Test accuracy 0.9\n"
          ]
        }
      ],
      "source": [
        "acc = 0\n",
        "batches = 0\n",
        "\n",
        "for x_batch, y_batch in test_loader:\n",
        "  # загружаем батч данных (вытянутый в линию)\n",
        "  batches += 1\n",
        "  x_batch = x_batch.view(x_batch.shape[0], -1)\n",
        "  y_batch = y_batch\n",
        "\n",
        "  preds = torch.argmax(x_batch @ W, dim=1)      # просто говорит какая цифра имеет максимальную вероятность и возвращает ее индекс, то есть ее же\n",
        "  acc += (preds==y_batch).cpu().numpy().mean()\n",
        "\n",
        "print(f'Test accuracy {acc / batches:.3}')"
      ]
    },
    {
      "cell_type": "code",
      "execution_count": 53,
      "metadata": {
        "colab": {
          "base_uri": "https://localhost:8080/"
        },
        "id": "1OtMN3QOAo2N",
        "outputId": "5e34e1d9-7afc-42c0-d244-69fce5c9a88f"
      },
      "outputs": [
        {
          "data": {
            "text/plain": [
              "tensor([[-2.3843,  0.2210, -2.5033,  ...,  1.5065, -0.4504,  1.3267],\n",
              "        [-2.6818,  2.3716,  0.5268,  ..., -1.9445,  2.3764, -0.5088],\n",
              "        [-1.4974,  1.6353, -0.5994,  ..., -2.4102,  1.5294, -0.4858],\n",
              "        ...,\n",
              "        [-0.1094, -0.3809,  1.7972,  ..., -1.7246, -1.5947, -1.9967],\n",
              "        [-0.2398, -0.0486,  3.2089,  ...,  0.0270, -1.9167, -0.0443],\n",
              "        [12.2080, -6.3601, -1.2618,  ..., -1.7012,  2.6406, -2.3362]],\n",
              "       grad_fn=<MmBackward0>)"
            ]
          },
          "execution_count": 53,
          "metadata": {},
          "output_type": "execute_result"
        }
      ],
      "source": [
        "(x_batch @ W)"
      ]
    },
    {
      "cell_type": "code",
      "execution_count": 54,
      "metadata": {
        "colab": {
          "base_uri": "https://localhost:8080/"
        },
        "id": "aLG-KLe_BVNl",
        "outputId": "01734bb3-b552-4cde-e2a4-149a381aca4b"
      },
      "outputs": [
        {
          "data": {
            "text/plain": [
              "tensor([5, 8, 3, 7, 3, 4, 6, 8, 7, 0, 4, 8, 7, 7, 5, 4, 3, 4, 8, 8, 1, 5, 1, 2,\n",
              "        2, 3, 3, 6, 7, 0, 6, 8, 0, 3, 4, 4, 5, 8, 7, 7, 1, 0, 1, 7, 8, 9, 0, 1,\n",
              "        2, 9, 4, 5, 6, 7, 8, 0, 1, 2, 3, 4, 7, 8, 9, 7, 8, 6, 4, 1, 9, 2, 8, 4,\n",
              "        4, 7, 0, 1, 9, 2, 8, 7, 8, 2, 6, 0, 0, 6, 3, 5, 8, 9, 1, 4, 0, 6, 1, 0,\n",
              "        0, 0, 0, 1, 1, 7, 7, 1, 4, 6, 0, 7, 0, 3, 6, 8, 7, 1, 3, 2, 4, 9, 4, 2,\n",
              "        6, 4, 1, 7, 3, 6, 6, 0])"
            ]
          },
          "execution_count": 54,
          "metadata": {},
          "output_type": "execute_result"
        }
      ],
      "source": [
        "preds"
      ]
    },
    {
      "cell_type": "markdown",
      "metadata": {
        "id": "Dmr2DLSxqGQx"
      },
      "source": [
        "В результате теперь мы видим, что каждая переменная или тензор имеет свои собственные `grad` и `grad_fn`. Эта часть показала, что мы можем напрямую манипулировать ими. Также это очень неудобно, но иногда мы можем получить доступ к такой гибкости.\n",
        "\n",
        "Конечно, PyTorch имеет более высокоуровневый способ работы с весами и градиентами, чем мы рассмотрели выше. В следующей части мы познакомимся с более высоким уровнем построения и обучения нейронных сетей. \n"
      ]
    },
    {
      "cell_type": "markdown",
      "metadata": {
        "id": "wgsY-55IrCGQ"
      },
      "source": [
        "## Модель\n",
        "\n",
        "PyTorch - это гибкий фреймворк для построения любой нейронной сети.\n",
        "\n",
        "Вот таблица сравнения:\n",
        "\n",
        "```\n",
        "| API             | Flexibility | Convenience |,\n",
        "|-----------------|-------------|-------------|,\n",
        "| Barebone        | High        | Low         |,\n",
        "| `nn.Module`     | High        | Medium      |,\n",
        "| `nn.Sequential` | Low         | High        |\n",
        "```"
      ]
    },
    {
      "cell_type": "markdown",
      "metadata": {
        "id": "v5JkAMkRr7Z9"
      },
      "source": [
        "1. barebone - это подход, при котором мы напрямую манипулируем тензорами. В приведенном выше примере у нас была целевая функция, напрямую выраженная весами. Если мы реализумем этот метод с использованием классов, мы получим API такого уровня: **На этом уровне мы сами кодируем модули** (низкий уровень комфорта, высокая гибкость)\n",
        "\n",
        "2. [`nn.Module`] (https://pytorch.org/docs/stable/nn.html) - родительский класс для многих модулей, представленных PyTorch. Их много. Их достаточно, чтобы использовать их в готовом виде с необходимыми параметрами. В основном мы используем: (средний уровень комфорта, достаточно высокая гибкость)\n",
        "\n",
        "- `nn.Linear`\n",
        "- `nn.Softmax`, `nn.LogSoftmax`\n",
        "- `nn.ReLU`, `nn.ELU`, `nn.LeakyReLU`\n",
        "- `nn.Tanh`, `nn.Sigmoid`\n",
        "- `nn.LSTM`, `nn.GRU`\n",
        "- `nn.Conv1d`, `nn.Conv2d`\n",
        "- `nn.MaxPool1d`, `nn.AdaptiveMaxPool1d` and others pooling\n",
        "- `nn.BatchNorm1d`, `nn.BatchNorm2d`\n",
        "- `nn.Dropout`\n",
        "- losses: `nn.CrossEntropyLoss`, `nn.NLLLoss`, `nn.MSELoss`\n",
        "- etc\n",
        "\n",
        "\n",
        "3. `nn.Sequential` - это не более чем последовательность различных модулей на основе` nn.Module`. Они инициируются списком модулей, где выходные данные одного модуля идут в качестве входных данных для следующего по порядку.\n",
        "\n",
        "\n",
        "Давайте **разработаем простую последовательность** для классификацию MNIST с использованием **модели** двух линейных слоев и `nn.Sequential`.\n"
      ]
    },
    {
      "cell_type": "code",
      "execution_count": 55,
      "metadata": {
        "id": "V4d3LntkwSyk"
      },
      "outputs": [],
      "source": [
        "import torch.nn as nn\n",
        "from torchsummary import summary"
      ]
    },
    {
      "cell_type": "code",
      "execution_count": 56,
      "metadata": {
        "colab": {
          "base_uri": "https://localhost:8080/"
        },
        "id": "1EAghRDFwcCM",
        "outputId": "84fc0704-9b8d-4ee0-85bf-28e4c89f2101"
      },
      "outputs": [
        {
          "data": {
            "text/plain": [
              "Sequential(\n",
              "  (0): Linear(in_features=784, out_features=64, bias=True)\n",
              "  (1): ReLU()\n",
              "  (2): Linear(in_features=64, out_features=10, bias=True)\n",
              ")"
            ]
          },
          "execution_count": 56,
          "metadata": {},
          "output_type": "execute_result"
        }
      ],
      "source": [
        "model = nn.Sequential(\n",
        "  nn.Linear(features, 64),\n",
        "  nn.ReLU(),\n",
        "  nn.Linear(64, classes)\n",
        "  \n",
        "  #НЕ НУЖНЕН СОФТМАКС, потому что кросс-энтропия в торче принимает логиты, а не вероятности\n",
        ")\n",
        "\n",
        "# It is the same as:\n",
        "#\n",
        "# model = nn.Sequential()\n",
        "# model.add_module('0', nn.Linear(features, 64))\n",
        "# model.add_module('1', nn.Linear(64, classes))\n",
        "\n",
        "model.to(device)"
      ]
    },
    {
      "cell_type": "markdown",
      "metadata": {
        "id": "jb4dP98KxQI8"
      },
      "source": [
        "Проверить, все ли в порядке со скрытыми слоями, можно с помощью `torchsummary.summary`. Форма входных данных необходима для визуализации модели."
      ]
    },
    {
      "cell_type": "code",
      "execution_count": 57,
      "metadata": {
        "colab": {
          "base_uri": "https://localhost:8080/"
        },
        "id": "BiZ3fQBnxNvh",
        "outputId": "52da8a46-7f40-4729-9758-b0ea7565e9f4"
      },
      "outputs": [
        {
          "name": "stdout",
          "output_type": "stream",
          "text": [
            "----------------------------------------------------------------\n",
            "        Layer (type)               Output Shape         Param #\n",
            "================================================================\n",
            "            Linear-1                  [228, 64]          50,240\n",
            "              ReLU-2                  [228, 64]               0\n",
            "            Linear-3                  [228, 10]             650\n",
            "================================================================\n",
            "Total params: 50,890\n",
            "Trainable params: 50,890\n",
            "Non-trainable params: 0\n",
            "----------------------------------------------------------------\n",
            "Input size (MB): 0.68\n",
            "Forward/backward pass size (MB): 0.24\n",
            "Params size (MB): 0.19\n",
            "Estimated Total Size (MB): 1.12\n",
            "----------------------------------------------------------------\n"
          ]
        }
      ],
      "source": [
        "summary(model, (features,), batch_size=228)"
      ]
    },
    {
      "cell_type": "markdown",
      "metadata": {
        "id": "wBQ06a9TClJg"
      },
      "source": [
        "В чем идея autograd: когда мы подсчитываем операции он их запоминает и когда бы делаем f.backward он по всем переменным, от которых f зависит, проходясь обратно по графу вычислений, подсчитает градиент: https://pytorch.org/tutorials/beginner/former_torchies/autograd_tutorial.html"
      ]
    },
    {
      "cell_type": "markdown",
      "metadata": {
        "id": "nfjR9itOwPO5"
      },
      "source": [
        "## Обучение\n",
        "\n",
        "Как известно, при решении проблемы важны следующие **3 вещи**:\n",
        "\n",
        "1. Модель\n",
        "2. Цель (функция потерь / loss)\n",
        "3. Оптимизация (для параметров модели)\n",
        "\n",
        "Хорошо, все, что мы должны делать при использовании PyTorch, - это** определить следующие 3 вещи**:\n",
        "\n",
        "1. Модель: из API `nn.Module`\n",
        "2. Функция потерь (loss): опять же, `nn.Module` или [` nn.functional`] (https://pytorch.org/docs/stable/nn.functional.html) API.\n",
        "3. Оптимизатор: основан на [`torch.optim.Optimizer`] (https://pytorch.org/docs/stable/optim.html).\n",
        "\n",
        "\n",
        "\n",
        "В предыдущих задачах, когда дело доходило до оптимизации параметров, мы использовали **явное решения или градиентный спуск**\n",
        "\n",
        "Конечно, есть множество улучшений градиентного спуска. Он может использовать **адаптивное значение шага**, **градиенты предыдущего шага** и другие. PyTorch также предоставляет несколько классов для оптимизации градиента. Они инициализируются с параметрами, которые они должны настроить для лучшего значения потерь, и во время спуска они делают шаг в методе спуска на основе градиента.\n",
        "\n",
        "Вот наиболее часто используемые оптимизаторы, на основе которых используется алгоритм спуска:\n",
        "\n",
        "- `torch.optim.Adam` использует как второй, так и первый импульс градиента, очень популярный благодаря своей скорости сходимости и простоте. [бумага] (https://arxiv.org/abs/1412.6980)\n",
        "\n",
        "- `torch.optim.SGD` - старый добрый стохастический градиентный спуск. Может использоваться с оптимизацией импульса Нестерова\n",
        "\n",
        "- `torch.optim.Adagrad` - [статья] (https://jmlr.org/papers/v12/duchi11a.html)\n",
        "\n",
        "- `torch.optim.RMSprop` - введено в [слайды] (https://www.cs.toronto.edu/~tijmen/csc321/slides/lecture_slides_lec6.pdf)\n"
      ]
    },
    {
      "cell_type": "markdown",
      "metadata": {
        "id": "_joC4G5v3M1J"
      },
      "source": [
        "Сначала определим последние 2 вещи: критерий и оптимизатор."
      ]
    },
    {
      "cell_type": "code",
      "execution_count": 58,
      "metadata": {
        "id": "QrEObxR2r67C"
      },
      "outputs": [],
      "source": [
        "criterion = nn.CrossEntropyLoss()      # (logsoftmax + negative likelihood) в своей основе применительно к логитам (logits)\n",
        "\n",
        "optimizer = torch.optim.Adam(model.parameters(), lr=1e-3, betas=(0.9, 0.99))"
      ]
    },
    {
      "cell_type": "markdown",
      "metadata": {
        "id": "PqXeZ4Gu4XuE"
      },
      "source": [
        "Наконец, мы переходим в **циклу обучения**!\n",
        "\n",
        "Ранее мы итерировались по эпохам и батчам (batch) (это называется обучающим циклом). Итак, давайте повторим это здесь"
      ]
    },
    {
      "cell_type": "code",
      "execution_count": 59,
      "metadata": {
        "id": "k_meINtk45pO"
      },
      "outputs": [],
      "source": [
        "epochs = 3\n",
        "history = []"
      ]
    },
    {
      "cell_type": "code",
      "execution_count": 60,
      "metadata": {
        "colab": {
          "base_uri": "https://localhost:8080/"
        },
        "id": "sc6CbL4p45pY",
        "outputId": "5e67afc5-b9c8-4b0e-c232-cd415638bb8e"
      },
      "outputs": [
        {
          "name": "stdout",
          "output_type": "stream",
          "text": [
            "1,\t loss: 0.09463110566139221\n",
            "2,\t loss: 0.06704996526241302\n",
            "3,\t loss: 0.04680570214986801\n"
          ]
        }
      ],
      "source": [
        "for i in range(epochs):\n",
        "  for x_batch, y_batch in train_loader:\n",
        "    # 1. # загружаем батч данных (вытянутый в линию)\n",
        "    x_batch = x_batch.view(x_batch.shape[0], -1).to(device)\n",
        "    y_batch = y_batch.to(device)\n",
        "\n",
        "    # 2. вычисляем скор с помощью прямого распространения ( .forward or .__call__ )\n",
        "    logits = model(x_batch)\n",
        "\n",
        "    # 3. вычислеяем - функцию потерь (loss)\n",
        "    loss = criterion(logits, y_batch)\n",
        "    history.append(loss.item())\n",
        "\n",
        "    # 4. вычисляем градиенты\n",
        "    optimizer.zero_grad()\n",
        "    loss.backward()\n",
        "\n",
        "    # 5. шаг градиентного спуска\n",
        "    optimizer.step()\n",
        "\n",
        "  print(f'{i+1},\\t loss: {history[-1]}')"
      ]
    },
    {
      "cell_type": "markdown",
      "metadata": {
        "id": "0Jot--gp5xEy"
      },
      "source": [
        "построим график изменения точности просто для проверки правильности."
      ]
    },
    {
      "cell_type": "code",
      "execution_count": 61,
      "metadata": {
        "id": "IePLJ3uq5u6H"
      },
      "outputs": [],
      "source": [
        "import matplotlib.pyplot as plt"
      ]
    },
    {
      "cell_type": "code",
      "execution_count": 62,
      "metadata": {
        "colab": {
          "base_uri": "https://localhost:8080/",
          "height": 458
        },
        "id": "mq6vkP095u6L",
        "outputId": "ea6103bf-04cb-4168-f886-897d9c094427"
      },
      "outputs": [
        {
          "data": {
            "image/png": "[encoded data removed]",
            "text/plain": [
              "<Figure size 720x504 with 1 Axes>"
            ]
          },
          "metadata": {
            "needs_background": "light"
          },
          "output_type": "display_data"
        }
      ],
      "source": [
        "plt.figure(figsize=(10, 7))\n",
        "\n",
        "plt.plot(history)\n",
        "\n",
        "plt.title('Loss by batch iterations')\n",
        "plt.ylabel('Entropy Loss')\n",
        "plt.xlabel('batches')\n",
        "\n",
        "plt.show()"
      ]
    },
    {
      "cell_type": "markdown",
      "metadata": {
        "id": "tekBJ55N5u6O"
      },
      "source": [
        "Некоторые метрики качества для нашей двух-слойной модели"
      ]
    },
    {
      "cell_type": "code",
      "execution_count": 63,
      "metadata": {
        "id": "ZqoMcdz75u6O"
      },
      "outputs": [],
      "source": [
        "from sklearn.metrics import accuracy_score"
      ]
    },
    {
      "cell_type": "code",
      "execution_count": 64,
      "metadata": {
        "colab": {
          "base_uri": "https://localhost:8080/"
        },
        "id": "051KxUi_5u6Q",
        "outputId": "714df311-bd54-4902-a060-75b96906ffda"
      },
      "outputs": [
        {
          "name": "stdout",
          "output_type": "stream",
          "text": [
            "Test accuracy 0.934\n"
          ]
        }
      ],
      "source": [
        "acc = 0\n",
        "batches = 0\n",
        "\n",
        "for x_batch, y_batch in test_loader:\n",
        "  # загружаем батч данных (вытянутый в линию)\n",
        "  batches += 1\n",
        "  x_batch = x_batch.view(x_batch.shape[0], -1).to(device)\n",
        "  y_batch = y_batch.to(device)\n",
        "\n",
        "  preds = torch.argmax(model(x_batch), dim=1)\n",
        "  acc += (preds==y_batch).cpu().numpy().mean()\n",
        "\n",
        "print(f'Test accuracy {acc / batches:.3}')"
      ]
    },
    {
      "cell_type": "markdown",
      "metadata": {
        "id": "wh14WDiz6KKe"
      },
      "source": [
        "## Резюмируем!\n",
        "\n",
        "Мы построили и обучили простейшую нейронную сеть. Это было сделано путем определения:\n",
        "\n",
        "1. `Модели`\n",
        "2. \"Критерия (Лосса)\"\n",
        "1. `Оптимизатора`\n",
        "\n",
        "Запомните эти шаги, необходимые во время обучения одного батча данных:\n",
        "\n",
        "1. загрузить батч\n",
        "2. выполнить прямой проход модели (получить «логиты» / выходы модели)\n",
        "3. рассчитать `loss` (используя критерий и «логиты» и истинные метки партии)\n",
        "4. выполнить `loss.backward ()` (вычислить градиенты функции потери относительно параметров модели)\n",
        "5. выполнить шаг оптимизации (`optimizer.step ()`)\n",
        "* обнуляйте градиенты (производите в любой момент, но не между шагами 4 и 5)\n",
        "* проверка (валидация) (после каждой эпохи)\n",
        "\n"
      ]
    },
    {
      "cell_type": "code",
      "execution_count": null,
      "metadata": {
        "id": "OW14I7DorFEf"
      },
      "outputs": [],
      "source": []
    }
  ],
  "metadata": {
    "accelerator": "GPU",
    "colab": {
      "collapsed_sections": [],
      "name": "4sem_nn.ipynb",
      "provenance": []
    },
    "kernelspec": {
      "display_name": "Python 3",
      "name": "python3"
    },
    "language_info": {
      "name": "python",
      "version": "3.8.10"
    }
  },
  "nbformat": 4,
  "nbformat_minor": 0
}
