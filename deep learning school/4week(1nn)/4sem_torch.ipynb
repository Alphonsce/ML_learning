{
  "nbformat": 4,
  "nbformat_minor": 0,
  "metadata": {
    "colab": {
      "name": "4sem_copy.ipynb",
      "provenance": [],
      "collapsed_sections": []
    },
    "kernelspec": {
      "name": "python3",
      "display_name": "Python 3"
    },
    "accelerator": "GPU"
  },
  "cells": [
    {
      "cell_type": "markdown",
      "metadata": {
        "id": "5RETQ6CxbdOz"
      },
      "source": [
        "<p style=\"align: center;\"><img align=center src=\"https://s8.hostingkartinok.com/uploads/images/2018/08/308b49fcfbc619d629fe4604bceb67ac.jpg\" width=550 height=450/></p>\n",
        "\n",
        "<h3 style=\"text-align: center;\"><b>\"Глубокое обучение\". Продвинутый поток</b></h3>\n",
        "\n",
        "<h2 style=\"text-align: center;\"><b>Семинар 6. Основы библиотеки PyTorch </b></h2>\n"
      ]
    },
    {
      "cell_type": "markdown",
      "metadata": {
        "id": "-Iv1eX2mYJ8v"
      },
      "source": [
        "<p style=\"align: center;\"><img src=\"https://upload.wikimedia.org/wikipedia/commons/9/96/Pytorch_logo.png\" width=400 height=100></p>"
      ]
    },
    {
      "cell_type": "markdown",
      "metadata": {
        "id": "JwiKExhuYJ8w"
      },
      "source": [
        "Этот ноутбук посвящён основам  библиотеки PyTorch."
      ]
    },
    {
      "cell_type": "markdown",
      "metadata": {
        "id": "70_JTnaRbdPD"
      },
      "source": [
        "<h3 style=\"text-align: center;\"><b>Введение</b></h3>"
      ]
    },
    {
      "cell_type": "markdown",
      "metadata": {
        "id": "tQoex-sZYJ8x"
      },
      "source": [
        "В настоящее время существует множество фреймворков глубокого обучения. Разница между ними заключается во внутренних принципах вычислений. Например, в **[Caffe](http://caffe.berkeleyvision.org/)** и **[Caffe2](https://caffe2.ai/)** вы пишете код, используя некоторые «готовые блоки» \"(как и $ LEGO ^ {TM} $ :). В **[TensorFlow](https://www.tensorflow.org/)** и **[Theano](http://deeplearning.net/software/theano/)** вы сначала объявляете граф вычислений, затем компилируйте его и используйте для вывода / обучения (`tf.session ()`). Кстати, теперь в TensorFlow (начиная с версии 1.10) есть функция [Eager Execution](https://www.tensorflow.org/guide/eager), которая может быть полезна для быстрого прототипирования и отладки. **[Keras](https://keras.io/)** - очень популярный и полезный фреймворк DL, который позволяет быстро реализовывать нейронный сети и имеет множество полезных функций.\n"
      ]
    },
    {
      "cell_type": "markdown",
      "metadata": {
        "id": "97MX7yrBYJ8y"
      },
      "source": [
        "<p style=\"align: center;\"><img src=\"https://habrastorage.org/web/e3e/c3e/b78/e3ec3eb78d714a7993a6b922911c0866.png\" width=500 height=500></p>  \n",
        "<p style=\"text-align: center;\"><i>Image credit: https://habr.com/post/334380/</i><p>"
      ]
    },
    {
      "cell_type": "markdown",
      "metadata": {
        "id": "h5yBQj7EbdPJ"
      },
      "source": [
        "Мы будем использовать **PyTorch**, поскольку он активно развивается и поддерживается AI-сообществом "
      ]
    },
    {
      "cell_type": "markdown",
      "metadata": {
        "id": "J74O-qdJYJ80"
      },
      "source": [
        "<h3 style=\"text-align: center;\"><b>Установка</b></h3>"
      ]
    },
    {
      "cell_type": "markdown",
      "metadata": {
        "id": "WpXxZ4-4YJ83"
      },
      "source": [
        "Подробную инструкцию по установке PyTorch вы можете найти на [официальном сайте PyTorch](https://pytorch.org/)."
      ]
    },
    {
      "cell_type": "markdown",
      "metadata": {
        "id": "uxdjjnqIYJ86"
      },
      "source": [
        "## Синтаксис Фреймворка"
      ]
    },
    {
      "cell_type": "code",
      "metadata": {
        "id": "RtyozNmmYJ89"
      },
      "source": [
        "import torch"
      ],
      "execution_count": 1,
      "outputs": []
    },
    {
      "cell_type": "markdown",
      "metadata": {
        "id": "zjfLQzEPYJ9B"
      },
      "source": [
        "Несколько фактов о PyTorch:\n",
        "- динамический граф вычислений\n",
        "- удобные модули `torch.nn` и `torchvision` для быстрого прототипирования нейронных сетей\n",
        "- даже быстрее, чем TensorFlow на некоторых задачах\n",
        "- позволяет легко использовать **GPU**"
      ]
    },
    {
      "cell_type": "markdown",
      "metadata": {
        "id": "44AAEPIpu8Mq"
      },
      "source": [
        "По своей сути PyTorch предоставляет две основные функции:\n",
        "\n",
        "- n-мерный тензор, похожий на **numpy**, но может работать на графических процессорах\n",
        "- Автоматическая дифференциация для построения и обучения нейронных сетей"
      ]
    },
    {
      "cell_type": "markdown",
      "metadata": {
        "id": "0AL-T8TMYJ9D"
      },
      "source": [
        "Если бы PyTorch был формулой, она была бы такой:\n",
        "\n",
        "$$PyTorch = NumPy + CUDA + Autograd$$"
      ]
    },
    {
      "cell_type": "markdown",
      "metadata": {
        "id": "X_O59VXWYJ9E"
      },
      "source": [
        "(CUDA - [wiki](https://en.wikipedia.org/wiki/CUDA))"
      ]
    },
    {
      "cell_type": "markdown",
      "metadata": {
        "id": "lWIeTFxSYJ9F"
      },
      "source": [
        "Давайте посмотрим, как мы можем использовать PyTorch для работы с векторами и тензорами.\n",
        "\n",
        "Напомним, что **тензор** - это многомерный вектор, например :\n",
        "\n",
        "`x = np.array ([1,2,3])` - вектор = тензор с 1 размерностью (точнее: `(3,)`)\n",
        "\n",
        "`y = np.array ([[1, 2, 3], [4, 5, 6]])` - матрица = тензор с двумя измерениями (`(2, 3)` в данном случае)\n",
        "\n",
        "`z = np.array ([[[1, 2, 3], [4, 5, 6], [7, 8, 9]]],\n",
        "               [[1, 2, 3], [4, 5, 6], [7, 8, 9]],\n",
        "               [[1, 2, 3], [4, 5, 6], [7, 8, 9]]]) `-\" куб \"(3, 3, 3) = тензор с тремя измерениями (` ( 3, 3, 3) `в этом случае)\n"
      ]
    },
    {
      "cell_type": "markdown",
      "metadata": {
        "id": "hS97vo7mYJ9G"
      },
      "source": [
        "Одним из реальных примеров трехмерного тензора является **изображение**, оно имеет 3 измерения: `высота`, `ширина` и `глубина канала` (глубина канала = 3 для цветных изображений, 1 для оттенков серого). Вы можете думать об этом как о параллелепипеде, состоящем из действительных чисел.\n"
      ]
    },
    {
      "cell_type": "markdown",
      "metadata": {
        "id": "byu7xZtLYJ9J"
      },
      "source": [
        "### Типы Тензоров"
      ]
    },
    {
      "cell_type": "markdown",
      "metadata": {
        "id": "tEeGGtRiYJ9H"
      },
      "source": [
        "В PyTorch мы будем использовать `torch.Tensor` (`FloatTensor`, `IntTensor`, `ByteTensor`) для всех вычислений.\n",
        "\n",
        "Все типы:"
      ]
    },
    {
      "cell_type": "code",
      "metadata": {
        "id": "zilSktmEGgAv",
        "colab": {
          "base_uri": "https://localhost:8080/"
        },
        "outputId": "07dd7d1e-e151-4ee0-eccd-618ebb747fe1"
      },
      "source": [
        "torch.HalfTensor      # 16 бит, floating point\n",
        "torch.FloatTensor     # 32 бита, floating point\n",
        "torch.DoubleTensor    # 64 бита, floating point\n",
        "\n",
        "torch.ShortTensor     # 16 бит, integer, signed\n",
        "torch.IntTensor       # 32 бита, integer, signed\n",
        "torch.LongTensor      # 64 бита, integer, signed\n",
        "\n",
        "torch.CharTensor      # 8 бит, integer, signed\n",
        "torch.ByteTensor      # 8 бит, integer, unsigned"
      ],
      "execution_count": null,
      "outputs": [
        {
          "output_type": "execute_result",
          "data": {
            "text/plain": [
              "torch.ByteTensor"
            ]
          },
          "metadata": {},
          "execution_count": 2
        }
      ]
    },
    {
      "cell_type": "markdown",
      "metadata": {
        "id": "NWk2gidNYJ9P"
      },
      "source": [
        "Мы будем использовать только `torch.FloatTensor()` и `torch.IntTensor()`."
      ]
    },
    {
      "cell_type": "markdown",
      "metadata": {
        "id": "CllyEKvVYJ9Q"
      },
      "source": [
        "Начнем уже что-нибудь писать!"
      ]
    },
    {
      "cell_type": "markdown",
      "metadata": {
        "id": "R4HEetsxYJ9Q"
      },
      "source": [
        "### Создание тензора"
      ]
    },
    {
      "cell_type": "code",
      "metadata": {
        "id": "MVawE9lRYJ9R",
        "colab": {
          "base_uri": "https://localhost:8080/"
        },
        "outputId": "abbf6a24-fff3-426d-8dfe-1190e4d568d5"
      },
      "source": [
        "a = torch.FloatTensor([1, 2])\n",
        "a\n"
      ],
      "execution_count": null,
      "outputs": [
        {
          "output_type": "execute_result",
          "data": {
            "text/plain": [
              "tensor([1., 2.])"
            ]
          },
          "metadata": {},
          "execution_count": 2
        }
      ]
    },
    {
      "cell_type": "code",
      "metadata": {
        "id": "ARjaPS_GYJ9W",
        "colab": {
          "base_uri": "https://localhost:8080/"
        },
        "outputId": "ebdd325d-7bad-4724-c82e-67783414abb0"
      },
      "source": [
        "a.shape"
      ],
      "execution_count": null,
      "outputs": [
        {
          "output_type": "execute_result",
          "data": {
            "text/plain": [
              "torch.Size([2])"
            ]
          },
          "metadata": {},
          "execution_count": 3
        }
      ]
    },
    {
      "cell_type": "code",
      "metadata": {
        "id": "4gXf0akDYJ9Z",
        "colab": {
          "base_uri": "https://localhost:8080/"
        },
        "outputId": "ee382869-6c7c-49b2-e7e2-a0c07b1f0c50"
      },
      "source": [
        "b = torch.FloatTensor([[1,2,3], [4,5,6]])\n",
        "b"
      ],
      "execution_count": null,
      "outputs": [
        {
          "output_type": "execute_result",
          "data": {
            "text/plain": [
              "tensor([[1., 2., 3.],\n",
              "        [4., 5., 6.]])"
            ]
          },
          "metadata": {},
          "execution_count": 4
        }
      ]
    },
    {
      "cell_type": "code",
      "metadata": {
        "id": "0HTkoIzpYJ9e",
        "colab": {
          "base_uri": "https://localhost:8080/"
        },
        "outputId": "5ac34d30-bf04-4839-8858-53074d509450"
      },
      "source": [
        "b.shape"
      ],
      "execution_count": null,
      "outputs": [
        {
          "output_type": "execute_result",
          "data": {
            "text/plain": [
              "torch.Size([2, 3])"
            ]
          },
          "metadata": {},
          "execution_count": 5
        }
      ]
    },
    {
      "cell_type": "code",
      "metadata": {
        "id": "WYJ9L-yFYJ9j"
      },
      "source": [
        "x = torch.FloatTensor(2,3,4)"
      ],
      "execution_count": null,
      "outputs": []
    },
    {
      "cell_type": "code",
      "metadata": {
        "id": "qWAEP27IYJ9m",
        "colab": {
          "base_uri": "https://localhost:8080/"
        },
        "outputId": "f20995ad-4a57-4b02-e362-2b3104271f37"
      },
      "source": [
        "x"
      ],
      "execution_count": null,
      "outputs": [
        {
          "output_type": "execute_result",
          "data": {
            "text/plain": [
              "tensor([[[-5.5579e+24,  3.0812e-41,  7.0065e-44,  6.8664e-44],\n",
              "         [ 6.3058e-44,  6.8664e-44,  6.7262e-44,  6.3058e-44],\n",
              "         [ 7.0065e-44,  6.7262e-44,  1.1771e-43,  6.8664e-44]],\n",
              "\n",
              "        [[ 7.4269e-44,  8.1275e-44,  7.4269e-44,  7.7071e-44],\n",
              "         [ 8.1275e-44,  7.4269e-44,  7.1466e-44,  6.4460e-44],\n",
              "         [ 7.4269e-44,  7.2868e-44,  7.9874e-44,  7.4269e-44]]])"
            ]
          },
          "metadata": {},
          "execution_count": 7
        }
      ]
    },
    {
      "cell_type": "code",
      "metadata": {
        "id": "o5CsOJ_xYJ9s",
        "scrolled": true,
        "colab": {
          "base_uri": "https://localhost:8080/"
        },
        "outputId": "ca4147d0-1cd0-4ada-cef3-76770e887dc0"
      },
      "source": [
        "x = torch.FloatTensor(100)\n",
        "x"
      ],
      "execution_count": null,
      "outputs": [
        {
          "output_type": "execute_result",
          "data": {
            "text/plain": [
              "tensor([-2.3196e+24,  3.0812e-41,  0.0000e+00,  0.0000e+00,  0.0000e+00,\n",
              "         0.0000e+00,  0.0000e+00,  0.0000e+00,  0.0000e+00,  0.0000e+00,\n",
              "         0.0000e+00,  0.0000e+00,  0.0000e+00,  0.0000e+00,  0.0000e+00,\n",
              "         0.0000e+00,  0.0000e+00,  0.0000e+00,  0.0000e+00,  0.0000e+00,\n",
              "         0.0000e+00,  0.0000e+00,  0.0000e+00,  0.0000e+00,  0.0000e+00,\n",
              "         0.0000e+00,  0.0000e+00,  0.0000e+00,  0.0000e+00,  0.0000e+00,\n",
              "         0.0000e+00,  0.0000e+00,  0.0000e+00,  0.0000e+00,  0.0000e+00,\n",
              "         0.0000e+00,  0.0000e+00,  0.0000e+00,  0.0000e+00,  0.0000e+00,\n",
              "         0.0000e+00,  0.0000e+00,  0.0000e+00,  0.0000e+00,  0.0000e+00,\n",
              "         0.0000e+00,  0.0000e+00,  0.0000e+00,  0.0000e+00,  0.0000e+00,\n",
              "         0.0000e+00,  0.0000e+00,  0.0000e+00,  0.0000e+00,  0.0000e+00,\n",
              "         0.0000e+00,  0.0000e+00,  0.0000e+00,  0.0000e+00,  0.0000e+00,\n",
              "         0.0000e+00,  0.0000e+00,  0.0000e+00,  0.0000e+00,  0.0000e+00,\n",
              "         0.0000e+00,  0.0000e+00,  0.0000e+00,  0.0000e+00,  0.0000e+00,\n",
              "         0.0000e+00,  0.0000e+00,  0.0000e+00,  0.0000e+00,  0.0000e+00,\n",
              "         0.0000e+00,  0.0000e+00,  0.0000e+00,  0.0000e+00,  0.0000e+00,\n",
              "         0.0000e+00,  0.0000e+00,  0.0000e+00,  0.0000e+00,  0.0000e+00,\n",
              "         0.0000e+00,  0.0000e+00,  0.0000e+00,  0.0000e+00,  0.0000e+00,\n",
              "         0.0000e+00,  0.0000e+00,  0.0000e+00,  0.0000e+00,  0.0000e+00,\n",
              "         0.0000e+00,  0.0000e+00,  0.0000e+00,  0.0000e+00,  0.0000e+00])"
            ]
          },
          "metadata": {},
          "execution_count": 10
        }
      ]
    },
    {
      "cell_type": "code",
      "metadata": {
        "id": "uIVhvmzZYJ91",
        "colab": {
          "base_uri": "https://localhost:8080/"
        },
        "outputId": "68747815-c3b2-4328-ca38-ce32b7321f0b"
      },
      "source": [
        "x = torch.IntTensor(45, 57, 14, 2)\n",
        "x.shape"
      ],
      "execution_count": null,
      "outputs": [
        {
          "output_type": "execute_result",
          "data": {
            "text/plain": [
              "torch.Size([45, 57, 14, 2])"
            ]
          },
          "metadata": {},
          "execution_count": 11
        }
      ]
    },
    {
      "cell_type": "markdown",
      "metadata": {
        "id": "cUzl8DFRYJ95"
      },
      "source": [
        "**Примечание:** если вы создаете `torch.Tensor` с помощью следующего конструктора, он будет заполнен мусором из \"случайных номеров\":"
      ]
    },
    {
      "cell_type": "code",
      "metadata": {
        "id": "QX0QcIOzYJ96",
        "colab": {
          "base_uri": "https://localhost:8080/"
        },
        "outputId": "396c0956-a2f3-4d76-a697-5837aaa7385b"
      },
      "source": [
        "x = torch.IntTensor(3, 2, 4)\n",
        "x"
      ],
      "execution_count": null,
      "outputs": [
        {
          "output_type": "execute_result",
          "data": {
            "text/plain": [
              "tensor([[[-393004288,      21988,         50,         49],\n",
              "         [        45,         49,         48,         45]],\n",
              "\n",
              "        [[        50,         48,         84,         49],\n",
              "         [        53,         58,         53,         56]],\n",
              "\n",
              "        [[        58,         53,         53,         46],\n",
              "         [        57,         55,         48,         52]]], dtype=torch.int32)"
            ]
          },
          "metadata": {},
          "execution_count": 12
        }
      ]
    },
    {
      "cell_type": "markdown",
      "metadata": {
        "id": "utra2t4SbdQR"
      },
      "source": [
        "### Инициализации тензоров"
      ]
    },
    {
      "cell_type": "code",
      "metadata": {
        "id": "XV3w9lVwYJ-A"
      },
      "source": [
        "x1 = torch.FloatTensor(3, 2, 4)\n",
        "x1.zero_()\n",
        "x2 = torch.zeros(3, 2, 4)\n",
        "x3 = torch.zeros_like(x1)\n",
        "\n",
        "assert torch.allclose(x1, x2) and torch.allclose(x1, x3)"
      ],
      "execution_count": null,
      "outputs": []
    },
    {
      "cell_type": "markdown",
      "metadata": {
        "id": "G3el1HwZd9wJ"
      },
      "source": [
        "Инициализация случайного распределения"
      ]
    },
    {
      "cell_type": "code",
      "metadata": {
        "id": "-ahnCFMXe_9I",
        "colab": {
          "base_uri": "https://localhost:8080/"
        },
        "outputId": "e2882741-a8c3-451e-ed56-b8b1a64c14dc"
      },
      "source": [
        "x = torch.randn((2,3))                # Normal(0, 1) с размером (2, 3)\n",
        "x"
      ],
      "execution_count": null,
      "outputs": [
        {
          "output_type": "execute_result",
          "data": {
            "text/plain": [
              "tensor([[ 0.5265, -0.3572,  1.2414],\n",
              "        [ 1.3978,  0.8296,  0.1583]])"
            ]
          },
          "metadata": {},
          "execution_count": 16
        }
      ]
    },
    {
      "cell_type": "code",
      "metadata": {
        "id": "FhIy_yuRd9Kf",
        "colab": {
          "base_uri": "https://localhost:8080/"
        },
        "outputId": "2f6e8b9f-1495-4b61-89f4-cd490c69aed3"
      },
      "source": [
        "x.random_(0, 10)                      # Дискретное равномерно U[0, 10]\n",
        "x.uniform_(0, 1)                      # Равномерно U[0, 1]\n",
        "x.normal_(mean=0, std=1)              # Нормальное со средним 0 и дисперсией 1\n",
        "x.bernoulli_(p=0.5)                   # bernoulli with parameter p"
      ],
      "execution_count": null,
      "outputs": [
        {
          "output_type": "execute_result",
          "data": {
            "text/plain": [
              "tensor([[1., 0., 0.],\n",
              "        [1., 1., 0.]])"
            ]
          },
          "metadata": {},
          "execution_count": 16
        }
      ]
    },
    {
      "cell_type": "markdown",
      "metadata": {
        "id": "bzq1klQuzXA9"
      },
      "source": [
        "## Функции в Torch \n",
        "\n",
        "У всех функций Numpy есть своя пара в Torch! Осталось теперь вспомнить numpy 🙂\n",
        "\n",
        "https://github.com/torch/torch7/wiki/Torch-for-Numpy-users"
      ]
    },
    {
      "cell_type": "markdown",
      "metadata": {
        "id": "SAAmLRwzYJ-E"
      },
      "source": [
        "### Изменение формы\n",
        "`np.reshape()` == `torch.view()`:"
      ]
    },
    {
      "cell_type": "code",
      "metadata": {
        "colab": {
          "base_uri": "https://localhost:8080/"
        },
        "id": "LLOoLEMDl8Cl",
        "outputId": "316ed447-b240-4fee-a3cf-cd0b86dd22a1"
      },
      "source": [
        "b"
      ],
      "execution_count": null,
      "outputs": [
        {
          "output_type": "execute_result",
          "data": {
            "text/plain": [
              "tensor([[1., 2., 3.],\n",
              "        [4., 5., 6.]])"
            ]
          },
          "metadata": {},
          "execution_count": 21
        }
      ]
    },
    {
      "cell_type": "code",
      "metadata": {
        "colab": {
          "base_uri": "https://localhost:8080/"
        },
        "id": "vLu6QvQihvGA",
        "outputId": "b65aedab-36a9-4a91-86fc-32435c7b1a4d"
      },
      "source": [
        "b.view(3, 2).shape"
      ],
      "execution_count": null,
      "outputs": [
        {
          "output_type": "execute_result",
          "data": {
            "text/plain": [
              "torch.Size([3, 2])"
            ]
          },
          "metadata": {},
          "execution_count": 22
        }
      ]
    },
    {
      "cell_type": "code",
      "metadata": {
        "colab": {
          "base_uri": "https://localhost:8080/"
        },
        "id": "BAET_xQhl_2f",
        "outputId": "ddc7d4a9-eb01-4c47-b7f6-83ac3830651c"
      },
      "source": [
        "b"
      ],
      "execution_count": null,
      "outputs": [
        {
          "output_type": "execute_result",
          "data": {
            "text/plain": [
              "tensor([[1., 2., 3.],\n",
              "        [4., 5., 6.]])"
            ]
          },
          "metadata": {},
          "execution_count": 23
        }
      ]
    },
    {
      "cell_type": "code",
      "metadata": {
        "id": "spMYG2xXYJ-L",
        "colab": {
          "base_uri": "https://localhost:8080/"
        },
        "outputId": "9465bbfa-8121-4471-bc6c-81557b80ca86"
      },
      "source": [
        "b, b.stride()"
      ],
      "execution_count": null,
      "outputs": [
        {
          "output_type": "execute_result",
          "data": {
            "text/plain": [
              "(tensor([[1., 2., 3.],\n",
              "         [4., 5., 6.]]), (3, 1))"
            ]
          },
          "metadata": {},
          "execution_count": 24
        }
      ]
    },
    {
      "cell_type": "code",
      "metadata": {
        "id": "ePjL3X3GYJ-H",
        "colab": {
          "base_uri": "https://localhost:8080/"
        },
        "outputId": "a0e06364-61e9-475d-ca36-5b9c28b01387"
      },
      "source": [
        "b.view(3, 2), b.view(3, 2).stride()  "
      ],
      "execution_count": null,
      "outputs": [
        {
          "output_type": "execute_result",
          "data": {
            "text/plain": [
              "(tensor([[1., 2.],\n",
              "         [3., 4.],\n",
              "         [5., 6.]]), (2, 1))"
            ]
          },
          "metadata": {},
          "execution_count": 31
        }
      ]
    },
    {
      "cell_type": "markdown",
      "metadata": {
        "id": "amVu0N1zYJ-O"
      },
      "source": [
        "**Примечание:** `torch.view ()` создает новый тензор, но старый остается неизменным"
      ]
    },
    {
      "cell_type": "code",
      "metadata": {
        "id": "hWqyugOSYJ-Q",
        "colab": {
          "base_uri": "https://localhost:8080/"
        },
        "outputId": "ed94a8d8-41a3-4a7b-b7bf-2c27fe62b569"
      },
      "source": [
        "b.view(-1, 2)"
      ],
      "execution_count": null,
      "outputs": [
        {
          "output_type": "execute_result",
          "data": {
            "text/plain": [
              "tensor([[1., 2.],\n",
              "        [3., 4.],\n",
              "        [5., 6.]])"
            ]
          },
          "metadata": {},
          "execution_count": 40
        }
      ]
    },
    {
      "cell_type": "code",
      "metadata": {
        "id": "S9CvF56uYJ-U",
        "colab": {
          "base_uri": "https://localhost:8080/"
        },
        "outputId": "fe2f9279-d516-4c04-ef95-561f1cad5f4b"
      },
      "source": [
        "b"
      ],
      "execution_count": null,
      "outputs": [
        {
          "output_type": "execute_result",
          "data": {
            "text/plain": [
              "tensor([[1., 2., 3.],\n",
              "        [4., 5., 6.]])"
            ]
          },
          "metadata": {},
          "execution_count": 41
        }
      ]
    },
    {
      "cell_type": "code",
      "metadata": {
        "id": "MVrFVwTNYd3S",
        "colab": {
          "base_uri": "https://localhost:8080/"
        },
        "outputId": "65a2432b-c5f6-410c-9e22-113864cea1e7"
      },
      "source": [
        "b.T.stride(), b.is_contiguous(), b.T.is_contiguous()"
      ],
      "execution_count": null,
      "outputs": [
        {
          "output_type": "execute_result",
          "data": {
            "text/plain": [
              "((1, 3), True, False)"
            ]
          },
          "metadata": {},
          "execution_count": 29
        }
      ]
    },
    {
      "cell_type": "code",
      "metadata": {
        "id": "0hZucnNac_x1"
      },
      "source": [
        ""
      ],
      "execution_count": null,
      "outputs": []
    },
    {
      "cell_type": "markdown",
      "metadata": {
        "id": "IVYx1j_HUl2d"
      },
      "source": [
        "<img src='https://lh3.googleusercontent.com/proxy/pbQ8C9YLVguU2LzlfE2-57lC3KK3yIRsQnpaTOK9S2UPpopvnZ3JhgeMcT6_kqYL56xq18ZFqddzPhszZg1W9YY--y-qDD2-bJrjVYivMdpQgRqiumwh6PpJYU3cL5Mua9RNeVp6xK0'>"
      ]
    },
    {
      "cell_type": "code",
      "metadata": {
        "id": "mjBCZ1fEJN5B",
        "colab": {
          "base_uri": "https://localhost:8080/"
        },
        "outputId": "ca03c774-804b-4efd-f395-05e10f61d1e4"
      },
      "source": [
        "b.reshape(-1) # возвращает view или contigues тензор"
      ],
      "execution_count": null,
      "outputs": [
        {
          "output_type": "execute_result",
          "data": {
            "text/plain": [
              "tensor([1., 2., 3., 4., 5., 6.])"
            ]
          },
          "metadata": {},
          "execution_count": 42
        }
      ]
    },
    {
      "cell_type": "code",
      "metadata": {
        "id": "wet5p_4uJRm6",
        "colab": {
          "base_uri": "https://localhost:8080/"
        },
        "outputId": "3ff29e31-aa4f-4f3d-bcfd-6ab7f1f0823d"
      },
      "source": [
        "b"
      ],
      "execution_count": null,
      "outputs": [
        {
          "output_type": "execute_result",
          "data": {
            "text/plain": [
              "tensor([[1., 2., 3.],\n",
              "        [4., 5., 6.]])"
            ]
          },
          "metadata": {},
          "execution_count": 43
        }
      ]
    },
    {
      "cell_type": "markdown",
      "metadata": {
        "id": "t401j1E2YJ-Z"
      },
      "source": [
        "### Изменение типа тензора"
      ]
    },
    {
      "cell_type": "code",
      "metadata": {
        "id": "f_iDUEH4YJ-Z"
      },
      "source": [
        "a = torch.FloatTensor([1.5, 3.2, -7])"
      ],
      "execution_count": null,
      "outputs": []
    },
    {
      "cell_type": "code",
      "metadata": {
        "id": "EzJOrXitYJ-e",
        "colab": {
          "base_uri": "https://localhost:8080/"
        },
        "outputId": "dd112a82-f363-4831-bf1f-eb612b320804"
      },
      "source": [
        "a.type_as(torch.IntTensor())"
      ],
      "execution_count": null,
      "outputs": [
        {
          "output_type": "execute_result",
          "data": {
            "text/plain": [
              "tensor([1, 2], dtype=torch.int32)"
            ]
          },
          "metadata": {},
          "execution_count": 44
        }
      ]
    },
    {
      "cell_type": "code",
      "metadata": {
        "id": "5LrO73QgJuGb",
        "colab": {
          "base_uri": "https://localhost:8080/"
        },
        "outputId": "6b3efcd1-9a4f-4cda-ba6f-99eaaac9e1d4"
      },
      "source": [
        "a.to(torch.int32)"
      ],
      "execution_count": null,
      "outputs": [
        {
          "output_type": "execute_result",
          "data": {
            "text/plain": [
              "tensor([1, 2], dtype=torch.int32)"
            ]
          },
          "metadata": {},
          "execution_count": 45
        }
      ]
    },
    {
      "cell_type": "code",
      "metadata": {
        "id": "hAe3OWWUYJ-i",
        "colab": {
          "base_uri": "https://localhost:8080/"
        },
        "outputId": "86aa0aae-8043-4eeb-a9b7-7c43c5a3aa17"
      },
      "source": [
        "a.type_as(torch.ByteTensor())"
      ],
      "execution_count": null,
      "outputs": [
        {
          "output_type": "execute_result",
          "data": {
            "text/plain": [
              "tensor([1, 2], dtype=torch.uint8)"
            ]
          },
          "metadata": {},
          "execution_count": 46
        }
      ]
    },
    {
      "cell_type": "code",
      "metadata": {
        "id": "6rOGMU_xJ450",
        "colab": {
          "base_uri": "https://localhost:8080/"
        },
        "outputId": "1f24d1ed-4caa-41d4-d35b-81f865fd7f64"
      },
      "source": [
        "a.to(torch.uint8)"
      ],
      "execution_count": null,
      "outputs": [
        {
          "output_type": "execute_result",
          "data": {
            "text/plain": [
              "tensor([1, 2], dtype=torch.uint8)"
            ]
          },
          "metadata": {},
          "execution_count": 47
        }
      ]
    },
    {
      "cell_type": "markdown",
      "metadata": {
        "id": "4rkatrUeYJ-n"
      },
      "source": [
        "**Note:** `.type_as()` creates a new tensor, the old one remains unchanged"
      ]
    },
    {
      "cell_type": "code",
      "metadata": {
        "id": "fCgDT14MYJ-o",
        "colab": {
          "base_uri": "https://localhost:8080/"
        },
        "outputId": "b0bb7f6e-b2a1-4e08-cdc7-308f64106e11"
      },
      "source": [
        "a"
      ],
      "execution_count": null,
      "outputs": [
        {
          "output_type": "execute_result",
          "data": {
            "text/plain": [
              "tensor([1., 2.])"
            ]
          },
          "metadata": {},
          "execution_count": 48
        }
      ]
    },
    {
      "cell_type": "markdown",
      "metadata": {
        "id": "hG1OwtFBYJ-r"
      },
      "source": [
        "* Indexing is just like in `NumPy`:"
      ]
    },
    {
      "cell_type": "code",
      "metadata": {
        "id": "prr0EGIYYJ-r",
        "colab": {
          "base_uri": "https://localhost:8080/"
        },
        "outputId": "f2fdb1bf-991a-4551-e332-66a6a2f38924"
      },
      "source": [
        "a = torch.FloatTensor([[100, 20, 35], [15, 163, 534], [52, 90, 66]])\n",
        "a"
      ],
      "execution_count": null,
      "outputs": [
        {
          "output_type": "execute_result",
          "data": {
            "text/plain": [
              "tensor([[100.,  20.,  35.],\n",
              "        [ 15., 163., 534.],\n",
              "        [ 52.,  90.,  66.]])"
            ]
          },
          "metadata": {},
          "execution_count": 49
        }
      ]
    },
    {
      "cell_type": "code",
      "metadata": {
        "id": "IBq7JiccYJ-w",
        "colab": {
          "base_uri": "https://localhost:8080/"
        },
        "outputId": "9fc31169-f3a5-439a-cd3b-3fca1ec0ecbb"
      },
      "source": [
        "a[0, 0]"
      ],
      "execution_count": null,
      "outputs": [
        {
          "output_type": "execute_result",
          "data": {
            "text/plain": [
              "tensor(100.)"
            ]
          },
          "metadata": {},
          "execution_count": 50
        }
      ]
    },
    {
      "cell_type": "code",
      "metadata": {
        "id": "UUZzx2F_YJ-2",
        "colab": {
          "base_uri": "https://localhost:8080/"
        },
        "outputId": "7031bbca-c5f6-4fae-a3e3-79294dc7ac50"
      },
      "source": [
        "a[0:2, 1]"
      ],
      "execution_count": null,
      "outputs": [
        {
          "output_type": "execute_result",
          "data": {
            "text/plain": [
              "tensor([ 20., 163.])"
            ]
          },
          "metadata": {},
          "execution_count": 52
        }
      ]
    },
    {
      "cell_type": "markdown",
      "metadata": {
        "id": "KffQsYwWYJ_D"
      },
      "source": [
        "### Арифметические операции\n",
        "\n",
        "| операция | аналоги |\n",
        "|:-:|:-:|\n",
        "|`+`| `torch.add()` |\n",
        "|`-`| `torch.sub()` |\n",
        "|`*`| `torch.mul()` |\n",
        "|`/`| `torch.div()` |"
      ]
    },
    {
      "cell_type": "markdown",
      "metadata": {
        "id": "UMpR8T11YJ_D"
      },
      "source": [
        "#### Сложение"
      ]
    },
    {
      "cell_type": "code",
      "metadata": {
        "id": "1XHkSjEUYJ_D"
      },
      "source": [
        "a = torch.FloatTensor([[1, 2, 3], [10, 20, 30], [100, 200, 300]])\n",
        "b = torch.FloatTensor([[-1, -2, -3], [-10, -20, -30], [100, 200, 300]])"
      ],
      "execution_count": null,
      "outputs": []
    },
    {
      "cell_type": "code",
      "metadata": {
        "id": "td25tuFKYJ_H",
        "colab": {
          "base_uri": "https://localhost:8080/"
        },
        "outputId": "e9a45c64-1b54-4606-c2ef-1199105d2d05"
      },
      "source": [
        "a + b"
      ],
      "execution_count": null,
      "outputs": [
        {
          "output_type": "execute_result",
          "data": {
            "text/plain": [
              "tensor([[  0.,   0.,   0.],\n",
              "        [  0.,   0.,   0.],\n",
              "        [200., 400., 600.]])"
            ]
          },
          "metadata": {},
          "execution_count": 54
        }
      ]
    },
    {
      "cell_type": "code",
      "metadata": {
        "id": "wHka8PxFYJ_N",
        "colab": {
          "base_uri": "https://localhost:8080/"
        },
        "outputId": "1736d82c-bfdb-4b4a-f9f2-8cf5519394fc"
      },
      "source": [
        "a.add(b)"
      ],
      "execution_count": null,
      "outputs": [
        {
          "output_type": "execute_result",
          "data": {
            "text/plain": [
              "tensor([[  0.,   0.,   0.],\n",
              "        [  0.,   0.,   0.],\n",
              "        [200., 400., 600.]])"
            ]
          },
          "metadata": {},
          "execution_count": 55
        }
      ]
    },
    {
      "cell_type": "code",
      "metadata": {
        "id": "FHQj4DbBYJ_Q",
        "colab": {
          "base_uri": "https://localhost:8080/"
        },
        "outputId": "3ec26615-d6cb-4e0f-a2f2-11ed4d229927"
      },
      "source": [
        "b = -a\n",
        "b"
      ],
      "execution_count": null,
      "outputs": [
        {
          "output_type": "execute_result",
          "data": {
            "text/plain": [
              "tensor([[  -1.,   -2.,   -3.],\n",
              "        [ -10.,  -20.,  -30.],\n",
              "        [-100., -200., -300.]])"
            ]
          },
          "metadata": {},
          "execution_count": 56
        }
      ]
    },
    {
      "cell_type": "code",
      "metadata": {
        "id": "xLCDzO7iYJ_V",
        "colab": {
          "base_uri": "https://localhost:8080/"
        },
        "outputId": "64ce8d45-4da2-4963-8361-05906f1cf968"
      },
      "source": [
        "a + b"
      ],
      "execution_count": null,
      "outputs": [
        {
          "output_type": "execute_result",
          "data": {
            "text/plain": [
              "tensor([[0., 0., 0.],\n",
              "        [0., 0., 0.],\n",
              "        [0., 0., 0.]])"
            ]
          },
          "metadata": {},
          "execution_count": 57
        }
      ]
    },
    {
      "cell_type": "markdown",
      "metadata": {
        "id": "z_3gVLY3YJ_Z"
      },
      "source": [
        "#### Вычитание"
      ]
    },
    {
      "cell_type": "code",
      "metadata": {
        "id": "PANHq3eFYJ_a",
        "colab": {
          "base_uri": "https://localhost:8080/"
        },
        "outputId": "84c62349-b107-45ed-8105-915e7ad2807b"
      },
      "source": [
        "a - b"
      ],
      "execution_count": null,
      "outputs": [
        {
          "output_type": "execute_result",
          "data": {
            "text/plain": [
              "tensor([[  2.,   4.,   6.],\n",
              "        [ 20.,  40.,  60.],\n",
              "        [200., 400., 600.]])"
            ]
          },
          "metadata": {},
          "execution_count": 58
        }
      ]
    },
    {
      "cell_type": "code",
      "metadata": {
        "id": "AH7xhdkRYJ_i",
        "colab": {
          "base_uri": "https://localhost:8080/"
        },
        "outputId": "e86f6eda-5117-44a3-b67b-829006f4fff8"
      },
      "source": [
        "a.sub(b) # copy"
      ],
      "execution_count": null,
      "outputs": [
        {
          "output_type": "execute_result",
          "data": {
            "text/plain": [
              "tensor([[  3.,   6.,   9.],\n",
              "        [ 30.,  60.,  90.],\n",
              "        [300., 600., 900.]])"
            ]
          },
          "metadata": {},
          "execution_count": 63
        }
      ]
    },
    {
      "cell_type": "code",
      "metadata": {
        "id": "v-sls6QjK98V",
        "colab": {
          "base_uri": "https://localhost:8080/"
        },
        "outputId": "d0098f45-5fd8-43d6-ad50-ad5b01bc7b7b"
      },
      "source": [
        "a.sub_(b) # inplace"
      ],
      "execution_count": null,
      "outputs": [
        {
          "output_type": "execute_result",
          "data": {
            "text/plain": [
              "tensor([[   4.,    8.,   12.],\n",
              "        [  40.,   80.,  120.],\n",
              "        [ 400.,  800., 1200.]])"
            ]
          },
          "metadata": {},
          "execution_count": 65
        }
      ]
    },
    {
      "cell_type": "markdown",
      "metadata": {
        "id": "KOX3dTuZYJ_l"
      },
      "source": [
        "#### Умножение (поэлементное)"
      ]
    },
    {
      "cell_type": "code",
      "metadata": {
        "id": "J380CvNGYJ_m",
        "colab": {
          "base_uri": "https://localhost:8080/"
        },
        "outputId": "1c194f31-d53f-4097-e252-a126c7a6d8ea"
      },
      "source": [
        "a * b"
      ],
      "execution_count": null,
      "outputs": [
        {
          "output_type": "execute_result",
          "data": {
            "text/plain": [
              "tensor([[-4.0000e+00, -1.6000e+01, -3.6000e+01],\n",
              "        [-4.0000e+02, -1.6000e+03, -3.6000e+03],\n",
              "        [-4.0000e+04, -1.6000e+05, -3.6000e+05]])"
            ]
          },
          "metadata": {},
          "execution_count": 66
        }
      ]
    },
    {
      "cell_type": "code",
      "metadata": {
        "id": "cixW0jgdYJ_o",
        "colab": {
          "base_uri": "https://localhost:8080/"
        },
        "outputId": "5b6e4971-5032-4200-ca63-f7f25bc9dd3c"
      },
      "source": [
        "a.mul(b)"
      ],
      "execution_count": null,
      "outputs": [
        {
          "output_type": "execute_result",
          "data": {
            "text/plain": [
              "tensor([[-4.0000e+00, -1.6000e+01, -3.6000e+01],\n",
              "        [-4.0000e+02, -1.6000e+03, -3.6000e+03],\n",
              "        [-4.0000e+04, -1.6000e+05, -3.6000e+05]])"
            ]
          },
          "metadata": {},
          "execution_count": 67
        }
      ]
    },
    {
      "cell_type": "markdown",
      "metadata": {
        "id": "V-GYTERKYJ_q"
      },
      "source": [
        "#### Деление (поэлементное):"
      ]
    },
    {
      "cell_type": "code",
      "metadata": {
        "id": "fUBQns2SYJ_r"
      },
      "source": [
        "a = torch.FloatTensor([[1, 2, 3], [10, 20, 30], [100, 200, 300]])\n",
        "b = torch.FloatTensor([[-1, -2, -3], [-10, -20, -30], [100, 200, 300]])"
      ],
      "execution_count": null,
      "outputs": []
    },
    {
      "cell_type": "code",
      "metadata": {
        "id": "2hrKeMjAYJ_v",
        "colab": {
          "base_uri": "https://localhost:8080/"
        },
        "outputId": "5ef8fab2-da30-406b-b0a6-3aae04de9e1c"
      },
      "source": [
        "a / b"
      ],
      "execution_count": null,
      "outputs": [
        {
          "output_type": "execute_result",
          "data": {
            "text/plain": [
              "tensor([[-1., -1., -1.],\n",
              "        [-1., -1., -1.],\n",
              "        [ 1.,  1.,  1.]])"
            ]
          },
          "metadata": {},
          "execution_count": 69
        }
      ]
    },
    {
      "cell_type": "code",
      "metadata": {
        "id": "cpg3YFVPYJ_2",
        "colab": {
          "base_uri": "https://localhost:8080/"
        },
        "outputId": "d7813f61-f134-41a5-eea2-77abd21f7ffb"
      },
      "source": [
        "a.div(b)"
      ],
      "execution_count": null,
      "outputs": [
        {
          "output_type": "execute_result",
          "data": {
            "text/plain": [
              "tensor([[-1., -1., -1.],\n",
              "        [-1., -1., -1.],\n",
              "        [ 1.,  1.,  1.]])"
            ]
          },
          "metadata": {},
          "execution_count": 70
        }
      ]
    },
    {
      "cell_type": "markdown",
      "metadata": {
        "id": "VeLAbx1tYJ_7"
      },
      "source": [
        "**Примечание:** все эти операции создают новые тензоры, старые тензоры остаются неизменными."
      ]
    },
    {
      "cell_type": "code",
      "metadata": {
        "id": "57BFtnlgYJ_8",
        "colab": {
          "base_uri": "https://localhost:8080/"
        },
        "outputId": "3b41b3df-8c26-40ba-fd50-ea6d86080d2f"
      },
      "source": [
        "a"
      ],
      "execution_count": null,
      "outputs": [
        {
          "output_type": "execute_result",
          "data": {
            "text/plain": [
              "tensor([[  1.,   2.,   3.],\n",
              "        [ 10.,  20.,  30.],\n",
              "        [100., 200., 300.]])"
            ]
          },
          "metadata": {},
          "execution_count": 71
        }
      ]
    },
    {
      "cell_type": "code",
      "metadata": {
        "id": "UziXyvtDYJ_-",
        "colab": {
          "base_uri": "https://localhost:8080/"
        },
        "outputId": "3a77920d-7fbc-4927-f221-5e8f7b1bc2f2"
      },
      "source": [
        "b"
      ],
      "execution_count": null,
      "outputs": [
        {
          "output_type": "execute_result",
          "data": {
            "text/plain": [
              "tensor([[ -1.,  -2.,  -3.],\n",
              "        [-10., -20., -30.],\n",
              "        [100., 200., 300.]])"
            ]
          },
          "metadata": {},
          "execution_count": 72
        }
      ]
    },
    {
      "cell_type": "markdown",
      "metadata": {
        "id": "vLpwZPc3YKAC"
      },
      "source": [
        "### Операторы сравнения"
      ]
    },
    {
      "cell_type": "code",
      "metadata": {
        "id": "FfRzvw_UYKAC"
      },
      "source": [
        "a = torch.FloatTensor([[1, 2, 3], [10, 20, 30], [100, 200, 300]])\n",
        "b = torch.FloatTensor([[-1, -2, -3], [-10, -20, -30], [100, 200, 300]])"
      ],
      "execution_count": null,
      "outputs": []
    },
    {
      "cell_type": "code",
      "metadata": {
        "id": "o1RUTP2BYKAD",
        "colab": {
          "base_uri": "https://localhost:8080/"
        },
        "outputId": "4a611a77-f313-48f6-e293-095eb0f76cdf"
      },
      "source": [
        "a == b"
      ],
      "execution_count": null,
      "outputs": [
        {
          "output_type": "execute_result",
          "data": {
            "text/plain": [
              "tensor([[False, False, False],\n",
              "        [False, False, False],\n",
              "        [ True,  True,  True]])"
            ]
          },
          "metadata": {},
          "execution_count": 73
        }
      ]
    },
    {
      "cell_type": "code",
      "metadata": {
        "id": "JO3HaVIAYKAF",
        "colab": {
          "base_uri": "https://localhost:8080/"
        },
        "outputId": "49111463-ef42-4067-e354-3eb134338f3d"
      },
      "source": [
        "a != b"
      ],
      "execution_count": null,
      "outputs": [
        {
          "output_type": "execute_result",
          "data": {
            "text/plain": [
              "tensor([[ True,  True,  True],\n",
              "        [ True,  True,  True],\n",
              "        [False, False, False]])"
            ]
          },
          "metadata": {},
          "execution_count": 74
        }
      ]
    },
    {
      "cell_type": "code",
      "metadata": {
        "id": "DExLBj4VYKAH",
        "colab": {
          "base_uri": "https://localhost:8080/"
        },
        "outputId": "5d502c89-47b9-4df2-b32f-8f152cfb2a7e"
      },
      "source": [
        "a < b"
      ],
      "execution_count": null,
      "outputs": [
        {
          "output_type": "execute_result",
          "data": {
            "text/plain": [
              "tensor([[False, False, False],\n",
              "        [False, False, False],\n",
              "        [False, False, False]])"
            ]
          },
          "metadata": {},
          "execution_count": 76
        }
      ]
    },
    {
      "cell_type": "code",
      "metadata": {
        "id": "0_IH_FUNYKAJ",
        "colab": {
          "base_uri": "https://localhost:8080/"
        },
        "outputId": "92e7db00-81d1-4ad8-d642-ef68cc70bbe7"
      },
      "source": [
        "a > b"
      ],
      "execution_count": null,
      "outputs": [
        {
          "output_type": "execute_result",
          "data": {
            "text/plain": [
              "tensor([[ True,  True,  True],\n",
              "        [ True,  True,  True],\n",
              "        [False, False, False]])"
            ]
          },
          "metadata": {},
          "execution_count": 77
        }
      ]
    },
    {
      "cell_type": "markdown",
      "metadata": {
        "id": "24nzBJR8YKAM"
      },
      "source": [
        "### Использование индексации по логической маске"
      ]
    },
    {
      "cell_type": "code",
      "metadata": {
        "id": "C-xVDslwYKAN",
        "colab": {
          "base_uri": "https://localhost:8080/"
        },
        "outputId": "6ef2584b-9233-4573-e391-ad92e199cc11"
      },
      "source": [
        "a[a > b]"
      ],
      "execution_count": null,
      "outputs": [
        {
          "output_type": "execute_result",
          "data": {
            "text/plain": [
              "tensor([ 1.,  2.,  3., 10., 20., 30.])"
            ]
          },
          "metadata": {},
          "execution_count": 79
        }
      ]
    },
    {
      "cell_type": "code",
      "metadata": {
        "id": "XatDJF5YYKAQ",
        "colab": {
          "base_uri": "https://localhost:8080/"
        },
        "outputId": "0e4e7c4e-b9be-4363-9425-9092ffa1f873"
      },
      "source": [
        "b[a == b]"
      ],
      "execution_count": null,
      "outputs": [
        {
          "output_type": "execute_result",
          "data": {
            "text/plain": [
              "tensor([100., 200., 300.])"
            ]
          },
          "metadata": {},
          "execution_count": 80
        }
      ]
    },
    {
      "cell_type": "markdown",
      "metadata": {
        "id": "54bQky1bYKAf"
      },
      "source": [
        "### Поэлементное применение **универсальных функций**"
      ]
    },
    {
      "cell_type": "code",
      "metadata": {
        "id": "lWnGSuUhYKAf"
      },
      "source": [
        "a = torch.FloatTensor([[1, 2, 3], [10, 20, 30], [100, 200, 300]])"
      ],
      "execution_count": null,
      "outputs": []
    },
    {
      "cell_type": "code",
      "metadata": {
        "id": "J6ZyxZBNYKAl",
        "colab": {
          "base_uri": "https://localhost:8080/"
        },
        "outputId": "f907d445-3a9b-4705-da3d-ea977c3a4caa"
      },
      "source": [
        "a.sin()"
      ],
      "execution_count": null,
      "outputs": [
        {
          "output_type": "execute_result",
          "data": {
            "text/plain": [
              "tensor([[ 0.8415,  0.9093,  0.1411],\n",
              "        [-0.5440,  0.9129, -0.9880],\n",
              "        [-0.5064, -0.8733, -0.9998]])"
            ]
          },
          "metadata": {},
          "execution_count": 81
        }
      ]
    },
    {
      "cell_type": "code",
      "metadata": {
        "id": "SScTSkJMYKAo",
        "colab": {
          "base_uri": "https://localhost:8080/"
        },
        "outputId": "1334afb7-570d-4a35-ec5b-164c4ca144f8"
      },
      "source": [
        "torch.sin(a)"
      ],
      "execution_count": null,
      "outputs": [
        {
          "output_type": "execute_result",
          "data": {
            "text/plain": [
              "tensor([[ 0.8415,  0.9093,  0.1411],\n",
              "        [-0.5440,  0.9129, -0.9880],\n",
              "        [-0.5064, -0.8733, -0.9998]])"
            ]
          },
          "metadata": {},
          "execution_count": 82
        }
      ]
    },
    {
      "cell_type": "code",
      "metadata": {
        "id": "0bYVYVV7YKAr",
        "colab": {
          "base_uri": "https://localhost:8080/"
        },
        "outputId": "24b7e541-4040-44c9-a520-77bbe3485388"
      },
      "source": [
        "a.tan()"
      ],
      "execution_count": null,
      "outputs": [
        {
          "output_type": "execute_result",
          "data": {
            "text/plain": [
              "tensor([[ 1.5574, -2.1850, -0.1425],\n",
              "        [ 0.6484,  2.2372, -6.4053],\n",
              "        [-0.5872, -1.7925, 45.2447]])"
            ]
          },
          "metadata": {},
          "execution_count": 83
        }
      ]
    },
    {
      "cell_type": "code",
      "metadata": {
        "id": "c-rYL8HQYKAt",
        "colab": {
          "base_uri": "https://localhost:8080/"
        },
        "outputId": "f44b9173-efbd-4cc1-c68a-80c4151683d8"
      },
      "source": [
        "a.exp()"
      ],
      "execution_count": null,
      "outputs": [
        {
          "output_type": "execute_result",
          "data": {
            "text/plain": [
              "tensor([[2.7183e+00, 7.3891e+00, 2.0086e+01],\n",
              "        [2.2026e+04, 4.8517e+08, 1.0686e+13],\n",
              "        [       inf,        inf,        inf]])"
            ]
          },
          "metadata": {},
          "execution_count": 84
        }
      ]
    },
    {
      "cell_type": "code",
      "metadata": {
        "id": "EbiCDYUzYKAw",
        "colab": {
          "base_uri": "https://localhost:8080/"
        },
        "outputId": "b0a12eb8-24d3-4008-9a87-8c1bc2a37d2f"
      },
      "source": [
        "a.log()"
      ],
      "execution_count": null,
      "outputs": [
        {
          "output_type": "execute_result",
          "data": {
            "text/plain": [
              "tensor([[0.0000, 0.6931, 1.0986],\n",
              "        [2.3026, 2.9957, 3.4012],\n",
              "        [4.6052, 5.2983, 5.7038]])"
            ]
          },
          "metadata": {},
          "execution_count": 85
        }
      ]
    },
    {
      "cell_type": "code",
      "metadata": {
        "id": "yh1sySpiYKAy",
        "colab": {
          "base_uri": "https://localhost:8080/"
        },
        "outputId": "71f5fc95-c70b-4037-cfb6-3ecc3d262d03"
      },
      "source": [
        "b = -a\n",
        "b"
      ],
      "execution_count": null,
      "outputs": [
        {
          "output_type": "execute_result",
          "data": {
            "text/plain": [
              "tensor([[  -1.,   -2.,   -3.],\n",
              "        [ -10.,  -20.,  -30.],\n",
              "        [-100., -200., -300.]])"
            ]
          },
          "metadata": {},
          "execution_count": 86
        }
      ]
    },
    {
      "cell_type": "code",
      "metadata": {
        "id": "PNU0UxqIYKA2",
        "colab": {
          "base_uri": "https://localhost:8080/"
        },
        "outputId": "17008632-fa44-448a-cc87-fe7b1373d05a"
      },
      "source": [
        "b.abs()"
      ],
      "execution_count": null,
      "outputs": [
        {
          "output_type": "execute_result",
          "data": {
            "text/plain": [
              "tensor([[  1.,   2.,   3.],\n",
              "        [ 10.,  20.,  30.],\n",
              "        [100., 200., 300.]])"
            ]
          },
          "metadata": {},
          "execution_count": 87
        }
      ]
    },
    {
      "cell_type": "markdown",
      "metadata": {
        "id": "eqERQjISYKA9"
      },
      "source": [
        "### Агрегация и работа с осями\n",
        "#### sum, mean, max, min:"
      ]
    },
    {
      "cell_type": "code",
      "metadata": {
        "id": "HLmJGdl9YKA-",
        "colab": {
          "base_uri": "https://localhost:8080/"
        },
        "outputId": "a6204bea-32bb-447d-cf8c-7574ebb164ec"
      },
      "source": [
        "a.sum(dim=1)"
      ],
      "execution_count": null,
      "outputs": [
        {
          "output_type": "execute_result",
          "data": {
            "text/plain": [
              "tensor([  6.,  60., 600.])"
            ]
          },
          "metadata": {},
          "execution_count": 88
        }
      ]
    },
    {
      "cell_type": "code",
      "metadata": {
        "id": "ervIuNGnYKBD",
        "colab": {
          "base_uri": "https://localhost:8080/"
        },
        "outputId": "ff444bc6-c56e-43eb-9ea1-d4551194e16a"
      },
      "source": [
        "a.mean()"
      ],
      "execution_count": null,
      "outputs": [
        {
          "output_type": "execute_result",
          "data": {
            "text/plain": [
              "tensor(74.)"
            ]
          },
          "metadata": {},
          "execution_count": 89
        }
      ]
    },
    {
      "cell_type": "markdown",
      "metadata": {
        "id": "1qxkdUQ2YKBF"
      },
      "source": [
        "#### Применение функции вдоль оси"
      ]
    },
    {
      "cell_type": "code",
      "metadata": {
        "id": "OzU2H7jBbdS-",
        "colab": {
          "base_uri": "https://localhost:8080/"
        },
        "outputId": "a701fb53-3b9b-435c-cb17-620c69315d7c"
      },
      "source": [
        "a"
      ],
      "execution_count": null,
      "outputs": [
        {
          "output_type": "execute_result",
          "data": {
            "text/plain": [
              "tensor([[  1.,   2.,   3.],\n",
              "        [ 10.,  20.,  30.],\n",
              "        [100., 200., 300.]])"
            ]
          },
          "metadata": {},
          "execution_count": 90
        }
      ]
    },
    {
      "cell_type": "code",
      "metadata": {
        "id": "cc6RjJYeYKBG",
        "colab": {
          "base_uri": "https://localhost:8080/"
        },
        "outputId": "78e942a6-5820-4fde-88d2-d5e1ce0665c9"
      },
      "source": [
        "a.sum(dim=0)"
      ],
      "execution_count": null,
      "outputs": [
        {
          "output_type": "execute_result",
          "data": {
            "text/plain": [
              "tensor([111., 222., 333.])"
            ]
          },
          "metadata": {},
          "execution_count": 91
        }
      ]
    },
    {
      "cell_type": "code",
      "metadata": {
        "id": "Dgi5BmhOYKBJ",
        "colab": {
          "base_uri": "https://localhost:8080/"
        },
        "outputId": "a6e73d38-78bc-42d2-da86-bccd3f9bb772"
      },
      "source": [
        "a.sum(dim=1)"
      ],
      "execution_count": null,
      "outputs": [
        {
          "output_type": "execute_result",
          "data": {
            "text/plain": [
              "tensor([  6.,  60., 600.])"
            ]
          },
          "metadata": {},
          "execution_count": 92
        }
      ]
    },
    {
      "cell_type": "code",
      "metadata": {
        "id": "-tIkcTENYKBK",
        "colab": {
          "base_uri": "https://localhost:8080/"
        },
        "outputId": "bd0f3557-ca04-4c9d-94f5-1c01947f4432"
      },
      "source": [
        "a.max()"
      ],
      "execution_count": null,
      "outputs": [
        {
          "output_type": "execute_result",
          "data": {
            "text/plain": [
              "tensor(300.)"
            ]
          },
          "metadata": {},
          "execution_count": 93
        }
      ]
    },
    {
      "cell_type": "code",
      "metadata": {
        "id": "V4U_LyyPYKBL",
        "colab": {
          "base_uri": "https://localhost:8080/"
        },
        "outputId": "b3e7f4e1-2ade-4d73-f3f5-16a9e1af266b"
      },
      "source": [
        "a.max(0)"
      ],
      "execution_count": null,
      "outputs": [
        {
          "output_type": "execute_result",
          "data": {
            "text/plain": [
              "torch.return_types.max(values=tensor([100., 200., 300.]), indices=tensor([2, 2, 2]))"
            ]
          },
          "metadata": {},
          "execution_count": 94
        }
      ]
    },
    {
      "cell_type": "markdown",
      "metadata": {
        "id": "Ys-9hnr4YKBS"
      },
      "source": [
        "**Примечание:** второй тензор, возвращаемый `.max()`, содержит индексы элементов max вдоль этой оси. Например. в этом случае `a.max ()` вернула `(100, 200, 300)`, которые являются минимальными элементами по оси 0 (вдоль столбцов), а их индексы по оси 0 равны `(2, 2, 2)`.\n"
      ]
    },
    {
      "cell_type": "markdown",
      "metadata": {
        "id": "utha2fm_zdmx"
      },
      "source": [
        "#### Фиктивные оси\n",
        "\n",
        "Иногда очень сложно бывает разобраться, как правильно выбрать оси для применения операций с многомерными массивами. Поэтому сейчас мы решим на эту тему пару задач.\n",
        "Сначала посмотрим, как создавать у массивов новые фиктивные оси, это нам пригодится."
      ]
    },
    {
      "cell_type": "code",
      "metadata": {
        "id": "0E6stC7-0J1r",
        "colab": {
          "base_uri": "https://localhost:8080/"
        },
        "outputId": "cf60029f-10ab-48b3-9471-8bf54187c7e0"
      },
      "source": [
        "a = torch.FloatTensor([[1, 2, 3], [10, 20, 30], [100, 200, 300]])\n",
        "\n",
        "a[:, None, :].shape"
      ],
      "execution_count": null,
      "outputs": [
        {
          "output_type": "execute_result",
          "data": {
            "text/plain": [
              "torch.Size([3, 1, 3])"
            ]
          },
          "metadata": {},
          "execution_count": 95
        }
      ]
    },
    {
      "cell_type": "code",
      "metadata": {
        "id": "FgfUrKpk0fLg",
        "colab": {
          "base_uri": "https://localhost:8080/"
        },
        "outputId": "07a3b509-2385-4e86-b91e-1451349258f2"
      },
      "source": [
        "a[:, :, None]"
      ],
      "execution_count": null,
      "outputs": [
        {
          "output_type": "execute_result",
          "data": {
            "text/plain": [
              "tensor([[[  1.],\n",
              "         [  2.],\n",
              "         [  3.]],\n",
              "\n",
              "        [[ 10.],\n",
              "         [ 20.],\n",
              "         [ 30.]],\n",
              "\n",
              "        [[100.],\n",
              "         [200.],\n",
              "         [300.]]])"
            ]
          },
          "metadata": {},
          "execution_count": 98
        }
      ]
    },
    {
      "cell_type": "markdown",
      "metadata": {
        "id": "vwF56ibrw1Hz"
      },
      "source": [
        "#### Безобидная задача на кумулятивные суммы\n",
        "Дана матрица $M \\times N$. Напишите функцию, которая возвращает вектор средних значений по вертикали. \n",
        "\n"
      ]
    },
    {
      "cell_type": "code",
      "metadata": {
        "id": "29X7MxuqxwIU",
        "colab": {
          "base_uri": "https://localhost:8080/"
        },
        "outputId": "d0e18dc4-f286-427e-f525-15df0998cbfd"
      },
      "source": [
        "def vertical_means(A):\n",
        "    \"\"\"\n",
        "    param A: torch.tensor[m,n]\n",
        "    \"\"\"\n",
        "\n",
        "    result = A.mean(dim=0)\n",
        "\n",
        "    return result # <YOUR CODE>\n",
        "\n",
        "A = torch.FloatTensor([[1, 4], \n",
        "                       [2, 7]] )\n",
        "\n",
        "vertical_means(A)"
      ],
      "execution_count": null,
      "outputs": [
        {
          "output_type": "execute_result",
          "data": {
            "text/plain": [
              "tensor([1.5000, 5.5000])"
            ]
          },
          "metadata": {},
          "execution_count": 102
        }
      ]
    },
    {
      "cell_type": "markdown",
      "metadata": {
        "id": "T6YOmemux0SI"
      },
      "source": [
        "**Проблемы:**\n",
        "\n",
        "* Что такое вертикальная ось? \n",
        "* По какой оси необходимо суммировать?\n",
        "* Как не ошибиться?\n",
        "\n",
        "**Ответ:** Операции всегда производятся по той оси, которая **исчезнет** после применения операции."
      ]
    },
    {
      "cell_type": "markdown",
      "metadata": {
        "id": "5YEpNZ3YyKzi"
      },
      "source": [
        "#### Задача на нормализацию изображения\n",
        "Реализуйте функцию ``normalize_pictures(A)``, которая принимает на вход четырёхмерный тензор --- батч из ``batch_size`` изображений, каждое из которых является трехмерным тензором формы (num_channels, width, height). Нужно стандартизировать изображение по каждому каналу, то есть сделать так, чтобы среднее значение яркости каждого канала (по всем изображениям и всем пикселям) было равно 0, а стандартное отклонение --- 1."
      ]
    },
    {
      "cell_type": "code",
      "metadata": {
        "id": "jNGjlcaVy3WT"
      },
      "source": [
        "def normalize_pictures(A):\n",
        "    \"\"\"\n",
        "    param A: torch.Tensor[batch_size, num_channels, width, height]\n",
        "    \"\"\"\n",
        "\n",
        "    m = A.mean(dim=(2,3))\n",
        "    sigma = A.std(dim =(2, 3))\n",
        "\n",
        "    result = (A - m[:, :, None, None])/sigma[:, :, None, None]\n",
        "\n",
        "\n",
        "    return result"
      ],
      "execution_count": null,
      "outputs": []
    },
    {
      "cell_type": "code",
      "metadata": {
        "id": "ZFUY4oookJ9i",
        "colab": {
          "base_uri": "https://localhost:8080/"
        },
        "outputId": "f2b57073-9eca-438b-e773-a7abc258de12"
      },
      "source": [
        "batch = torch.randint(0, 156, (64, 3, 300, 300), dtype=torch.float32)\n",
        "batch.mean(dim=(2,3)).shape"
      ],
      "execution_count": null,
      "outputs": [
        {
          "output_type": "execute_result",
          "data": {
            "text/plain": [
              "torch.Size([64, 3])"
            ]
          },
          "metadata": {},
          "execution_count": 106
        }
      ]
    },
    {
      "cell_type": "code",
      "metadata": {
        "id": "OttmzUHWzOiA"
      },
      "source": [
        "batch = torch.randint(0, 256, (64, 3, 300, 300), dtype=torch.float32)\n",
        "\n",
        "B = normalize_pictures(batch)\n",
        "# print(B.mean(dim=(2,3)).shape)\n",
        "# print(B.std(dim=(2,3)))"
      ],
      "execution_count": null,
      "outputs": []
    },
    {
      "cell_type": "code",
      "metadata": {
        "id": "qdubz4LkkCuW"
      },
      "source": [
        ""
      ],
      "execution_count": null,
      "outputs": []
    },
    {
      "cell_type": "markdown",
      "metadata": {
        "id": "kepFeTZ0YKBV"
      },
      "source": [
        "## Матричные операции"
      ]
    },
    {
      "cell_type": "markdown",
      "metadata": {
        "id": "7RYm3mdrYKBX"
      },
      "source": [
        "#### Транспонирование тензора"
      ]
    },
    {
      "cell_type": "code",
      "metadata": {
        "id": "T8-1TSkeYKBY",
        "colab": {
          "base_uri": "https://localhost:8080/"
        },
        "outputId": "aca565b2-ea0c-4909-964a-05cc5a3e6f68"
      },
      "source": [
        "a = torch.FloatTensor([[1, 2, 3], [10, 20, 30], [100, 200, 300]])\n",
        "a"
      ],
      "execution_count": null,
      "outputs": [
        {
          "output_type": "execute_result",
          "data": {
            "text/plain": [
              "tensor([[  1.,   2.,   3.],\n",
              "        [ 10.,  20.,  30.],\n",
              "        [100., 200., 300.]])"
            ]
          },
          "metadata": {},
          "execution_count": 112
        }
      ]
    },
    {
      "cell_type": "code",
      "metadata": {
        "id": "HSAZwai7YKBa",
        "colab": {
          "base_uri": "https://localhost:8080/"
        },
        "outputId": "6506227d-85fc-4b22-e1a9-8b212c742d2b"
      },
      "source": [
        "a.t()"
      ],
      "execution_count": null,
      "outputs": [
        {
          "output_type": "execute_result",
          "data": {
            "text/plain": [
              "tensor([[  1.,  10., 100.],\n",
              "        [  2.,  20., 200.],\n",
              "        [  3.,  30., 300.]])"
            ]
          },
          "metadata": {},
          "execution_count": 113
        }
      ]
    },
    {
      "cell_type": "markdown",
      "metadata": {
        "id": "QqsPkleRYKBd"
      },
      "source": [
        "Это тоже не inplace-операция:"
      ]
    },
    {
      "cell_type": "code",
      "metadata": {
        "id": "NRPamd2EYKBe",
        "colab": {
          "base_uri": "https://localhost:8080/"
        },
        "outputId": "6a8d5de2-9753-4b25-a31d-7f3910a235fe"
      },
      "source": [
        "a"
      ],
      "execution_count": null,
      "outputs": [
        {
          "output_type": "execute_result",
          "data": {
            "text/plain": [
              "tensor([[  1.,   2.,   3.],\n",
              "        [ 10.,  20.,  30.],\n",
              "        [100., 200., 300.]])"
            ]
          },
          "metadata": {},
          "execution_count": 114
        }
      ]
    },
    {
      "cell_type": "markdown",
      "metadata": {
        "id": "q8YhoxHPYKBh"
      },
      "source": [
        "#### Скалярное произведение векторов"
      ]
    },
    {
      "cell_type": "code",
      "metadata": {
        "id": "i1pRtl7HYKBi"
      },
      "source": [
        "a = torch.FloatTensor([1, 2, 3, 4, 5, 6])\n",
        "b = torch.FloatTensor([-1, -2, -4, -6, -8, -10])"
      ],
      "execution_count": null,
      "outputs": []
    },
    {
      "cell_type": "code",
      "metadata": {
        "id": "qcS-28dwYKBp",
        "colab": {
          "base_uri": "https://localhost:8080/"
        },
        "outputId": "9846a5f9-d2bf-4b3f-caf0-056fc0109ee8"
      },
      "source": [
        "a.dot(b)"
      ],
      "execution_count": null,
      "outputs": [
        {
          "output_type": "execute_result",
          "data": {
            "text/plain": [
              "tensor(-141.)"
            ]
          },
          "metadata": {},
          "execution_count": 116
        }
      ]
    },
    {
      "cell_type": "code",
      "metadata": {
        "id": "sBiRR1V3LP-r",
        "colab": {
          "base_uri": "https://localhost:8080/"
        },
        "outputId": "b8b20971-79bb-4da6-b008-5e1a4a387b18"
      },
      "source": [
        "a.shape, b.shape"
      ],
      "execution_count": null,
      "outputs": [
        {
          "output_type": "execute_result",
          "data": {
            "text/plain": [
              "(torch.Size([6]), torch.Size([6]))"
            ]
          },
          "metadata": {},
          "execution_count": 117
        }
      ]
    },
    {
      "cell_type": "code",
      "metadata": {
        "id": "MXyhOelQYKBs",
        "colab": {
          "base_uri": "https://localhost:8080/"
        },
        "outputId": "4f92a038-5f36-43e2-a4be-a50d321e1fdb"
      },
      "source": [
        "a @ b"
      ],
      "execution_count": null,
      "outputs": [
        {
          "output_type": "execute_result",
          "data": {
            "text/plain": [
              "tensor(-141.)"
            ]
          },
          "metadata": {},
          "execution_count": 118
        }
      ]
    },
    {
      "cell_type": "code",
      "metadata": {
        "id": "sxqg4xhoYKBt",
        "colab": {
          "base_uri": "https://localhost:8080/"
        },
        "outputId": "cb1e601e-ecea-42f3-bf10-e12babfe57af"
      },
      "source": [
        "type(a)"
      ],
      "execution_count": null,
      "outputs": [
        {
          "output_type": "execute_result",
          "data": {
            "text/plain": [
              "torch.Tensor"
            ]
          },
          "metadata": {},
          "execution_count": 119
        }
      ]
    },
    {
      "cell_type": "code",
      "metadata": {
        "id": "_v2ZjPqDYKBz",
        "colab": {
          "base_uri": "https://localhost:8080/"
        },
        "outputId": "d524bb4f-caf7-4e39-d681-9850f9fe63ec"
      },
      "source": [
        "type(b)"
      ],
      "execution_count": null,
      "outputs": [
        {
          "output_type": "execute_result",
          "data": {
            "text/plain": [
              "torch.Tensor"
            ]
          },
          "metadata": {},
          "execution_count": 120
        }
      ]
    },
    {
      "cell_type": "code",
      "metadata": {
        "id": "UsWB9vTuYKB0",
        "colab": {
          "base_uri": "https://localhost:8080/"
        },
        "outputId": "37980664-95ee-4852-da62-5ca6772548a0"
      },
      "source": [
        "type(a @ b)"
      ],
      "execution_count": null,
      "outputs": [
        {
          "output_type": "execute_result",
          "data": {
            "text/plain": [
              "torch.Tensor"
            ]
          },
          "metadata": {},
          "execution_count": 121
        }
      ]
    },
    {
      "cell_type": "markdown",
      "metadata": {
        "id": "KSrnLwkGYKB1"
      },
      "source": [
        "#### Матричное произведение"
      ]
    },
    {
      "cell_type": "code",
      "metadata": {
        "id": "ViurnbjPYKB2"
      },
      "source": [
        "a = torch.FloatTensor([[1, 2, 3], [10, 20, 30], [100, 200, 300]])\n",
        "b = torch.FloatTensor([[-1, -2, -3], [-10, -20, -30], [100, 200, 300]])"
      ],
      "execution_count": null,
      "outputs": []
    },
    {
      "cell_type": "code",
      "metadata": {
        "id": "5TrCnfWiYKB3",
        "colab": {
          "base_uri": "https://localhost:8080/"
        },
        "outputId": "9d920c83-cd01-4207-ea73-3373efed9e9f"
      },
      "source": [
        "a.mm(b)"
      ],
      "execution_count": null,
      "outputs": [
        {
          "output_type": "execute_result",
          "data": {
            "text/plain": [
              "tensor([[  279.,   558.,   837.],\n",
              "        [ 2790.,  5580.,  8370.],\n",
              "        [27900., 55800., 83700.]])"
            ]
          },
          "metadata": {},
          "execution_count": 111
        }
      ]
    },
    {
      "cell_type": "code",
      "metadata": {
        "id": "HMzIz-_MYKB4",
        "colab": {
          "base_uri": "https://localhost:8080/"
        },
        "outputId": "1f41001d-524f-43fe-ce7f-e602d5f54c3c"
      },
      "source": [
        "a @ b"
      ],
      "execution_count": null,
      "outputs": [
        {
          "output_type": "execute_result",
          "data": {
            "text/plain": [
              "tensor([[  279.,   558.,   837.],\n",
              "        [ 2790.,  5580.,  8370.],\n",
              "        [27900., 55800., 83700.]])"
            ]
          },
          "metadata": {},
          "execution_count": 123
        }
      ]
    },
    {
      "cell_type": "code",
      "metadata": {
        "id": "vtuvt20-YKB8"
      },
      "source": [
        "a = torch.FloatTensor([[1, 2, 3], [10, 20, 30], [100, 200, 300]])\n",
        "b = torch.FloatTensor([[-1], [-10], [100]])"
      ],
      "execution_count": null,
      "outputs": []
    },
    {
      "cell_type": "code",
      "metadata": {
        "id": "fdDnu5XjYKB9",
        "colab": {
          "base_uri": "https://localhost:8080/"
        },
        "outputId": "1a6c1ff2-a2e3-4f3f-8bd4-f644b9f82c97"
      },
      "source": [
        "print(a.shape, b.shape)"
      ],
      "execution_count": null,
      "outputs": [
        {
          "output_type": "stream",
          "name": "stdout",
          "text": [
            "torch.Size([3, 3]) torch.Size([3, 1])\n"
          ]
        }
      ]
    },
    {
      "cell_type": "code",
      "metadata": {
        "id": "oD4N4WN8YKB_",
        "colab": {
          "base_uri": "https://localhost:8080/"
        },
        "outputId": "595cf2fb-820f-4029-fbc7-e21fc140ba9f"
      },
      "source": [
        "a @ b"
      ],
      "execution_count": null,
      "outputs": [
        {
          "output_type": "execute_result",
          "data": {
            "text/plain": [
              "tensor([[  279.],\n",
              "        [ 2790.],\n",
              "        [27900.]])"
            ]
          },
          "metadata": {},
          "execution_count": 115
        }
      ]
    },
    {
      "cell_type": "markdown",
      "metadata": {
        "id": "va9w-BavYKCB"
      },
      "source": [
        "Тензор `b` можно развернуть в одномерный массив с помощью функции `torch.view(-1)`, чтобы результат был вектором"
      ]
    },
    {
      "cell_type": "code",
      "metadata": {
        "id": "V7KsdYcBYKCC",
        "colab": {
          "base_uri": "https://localhost:8080/"
        },
        "outputId": "3fd989f8-2b94-4082-af61-e1030a8ca47f"
      },
      "source": [
        "b"
      ],
      "execution_count": null,
      "outputs": [
        {
          "output_type": "execute_result",
          "data": {
            "text/plain": [
              "tensor([[ -1.],\n",
              "        [-10.],\n",
              "        [100.]])"
            ]
          },
          "metadata": {},
          "execution_count": 126
        }
      ]
    },
    {
      "cell_type": "code",
      "metadata": {
        "id": "t7k6spayYKCF",
        "colab": {
          "base_uri": "https://localhost:8080/"
        },
        "outputId": "d3d8ed57-ab88-4b71-a28c-2d1b22e0b7e6"
      },
      "source": [
        "b.view(-1)"
      ],
      "execution_count": null,
      "outputs": [
        {
          "output_type": "execute_result",
          "data": {
            "text/plain": [
              "tensor([ -1., -10., 100.])"
            ]
          },
          "metadata": {},
          "execution_count": 127
        }
      ]
    },
    {
      "cell_type": "code",
      "metadata": {
        "id": "8u8xQ20bYKCH",
        "colab": {
          "base_uri": "https://localhost:8080/"
        },
        "outputId": "c5b424dc-6824-46d9-d356-251cf6926933"
      },
      "source": [
        "a @ b.view(-1)"
      ],
      "execution_count": null,
      "outputs": [
        {
          "output_type": "execute_result",
          "data": {
            "text/plain": [
              "tensor([  279.,  2790., 27900.])"
            ]
          },
          "metadata": {},
          "execution_count": 128
        }
      ]
    },
    {
      "cell_type": "code",
      "metadata": {
        "id": "QvCu1sJEYKCJ",
        "colab": {
          "base_uri": "https://localhost:8080/"
        },
        "outputId": "7dac2139-3516-4680-c588-3391fd199703"
      },
      "source": [
        "a.mv(b.view(-1))"
      ],
      "execution_count": null,
      "outputs": [
        {
          "output_type": "execute_result",
          "data": {
            "text/plain": [
              "tensor([  279.,  2790., 27900.])"
            ]
          },
          "metadata": {},
          "execution_count": 119
        }
      ]
    },
    {
      "cell_type": "code",
      "metadata": {
        "id": "MAuGNC7EL3lq",
        "colab": {
          "base_uri": "https://localhost:8080/"
        },
        "outputId": "b97080cb-21cc-4145-db12-e9e13dc00537"
      },
      "source": [
        "y = torch.Tensor(2, 3, 4, 5)\n",
        "z = torch.Tensor(2, 3, 5, 6)\n",
        "(y @ z).shape"
      ],
      "execution_count": null,
      "outputs": [
        {
          "output_type": "execute_result",
          "data": {
            "text/plain": [
              "torch.Size([2, 3, 4, 6])"
            ]
          },
          "metadata": {},
          "execution_count": 120
        }
      ]
    },
    {
      "cell_type": "markdown",
      "metadata": {
        "id": "gZitrCN6YKCL"
      },
      "source": [
        "## Конвертация\n",
        "#### Конвертация из Numpy в Pytorch:"
      ]
    },
    {
      "cell_type": "code",
      "metadata": {
        "id": "bnLS4CGXYKCL",
        "colab": {
          "base_uri": "https://localhost:8080/"
        },
        "outputId": "4695cd5a-bde6-4c62-cbfe-59a72102fb51"
      },
      "source": [
        "import numpy as np\n",
        "\n",
        "a = np.random.rand(3, 3)\n",
        "a"
      ],
      "execution_count": null,
      "outputs": [
        {
          "output_type": "execute_result",
          "data": {
            "text/plain": [
              "array([[0.05042278, 0.06324364, 0.59256736],\n",
              "       [0.52984072, 0.25957787, 0.70528832],\n",
              "       [0.18154263, 0.99443839, 0.76717738]])"
            ]
          },
          "metadata": {},
          "execution_count": 129
        }
      ]
    },
    {
      "cell_type": "code",
      "metadata": {
        "id": "PXge57waYKCM",
        "colab": {
          "base_uri": "https://localhost:8080/"
        },
        "outputId": "1602fee2-f37c-4c9a-f871-fcd6954a7263"
      },
      "source": [
        "b = torch.from_numpy(a)\n",
        "b"
      ],
      "execution_count": null,
      "outputs": [
        {
          "output_type": "execute_result",
          "data": {
            "text/plain": [
              "tensor([[0.0504, 0.0632, 0.5926],\n",
              "        [0.5298, 0.2596, 0.7053],\n",
              "        [0.1815, 0.9944, 0.7672]], dtype=torch.float64)"
            ]
          },
          "metadata": {},
          "execution_count": 130
        }
      ]
    },
    {
      "cell_type": "markdown",
      "metadata": {
        "id": "Nvcr3ymPYKCN"
      },
      "source": [
        "**Внимание!** `a` и `b` хранятся в одной и той же ячейке данных. Если именить один тензор, то изменится и другой."
      ]
    },
    {
      "cell_type": "code",
      "metadata": {
        "id": "0N_ZW6TQYKCN",
        "colab": {
          "base_uri": "https://localhost:8080/"
        },
        "outputId": "1d419bf2-5353-4cea-bd85-e6ce1ea3255d"
      },
      "source": [
        "b -= b\n",
        "b"
      ],
      "execution_count": null,
      "outputs": [
        {
          "output_type": "execute_result",
          "data": {
            "text/plain": [
              "tensor([[0., 0., 0.],\n",
              "        [0., 0., 0.],\n",
              "        [0., 0., 0.]], dtype=torch.float64)"
            ]
          },
          "metadata": {},
          "execution_count": 132
        }
      ]
    },
    {
      "cell_type": "code",
      "metadata": {
        "id": "wzUnCKsiYKCP",
        "colab": {
          "base_uri": "https://localhost:8080/"
        },
        "outputId": "fdefbd15-9512-4752-a16a-13a1aaf03704"
      },
      "source": [
        "a"
      ],
      "execution_count": null,
      "outputs": [
        {
          "output_type": "execute_result",
          "data": {
            "text/plain": [
              "array([[0., 0., 0.],\n",
              "       [0., 0., 0.],\n",
              "       [0., 0., 0.]])"
            ]
          },
          "metadata": {},
          "execution_count": 133
        }
      ]
    },
    {
      "cell_type": "markdown",
      "metadata": {
        "id": "Al73RqKSYKCR"
      },
      "source": [
        "#### Конвертация из Torch в Numpy"
      ]
    },
    {
      "cell_type": "code",
      "metadata": {
        "id": "u5rngw4vYKCR",
        "colab": {
          "base_uri": "https://localhost:8080/"
        },
        "outputId": "8a8561d2-8199-4dbd-fb0d-c27dec81755f"
      },
      "source": [
        "a = torch.FloatTensor(2, 3, 4)\n",
        "a"
      ],
      "execution_count": null,
      "outputs": [
        {
          "output_type": "execute_result",
          "data": {
            "text/plain": [
              "tensor([[[-5.5622e+24,  3.0812e-41,  7.0065e-44,  6.8664e-44],\n",
              "         [ 6.3058e-44,  6.8664e-44,  6.7262e-44,  6.3058e-44],\n",
              "         [ 7.0065e-44,  6.7262e-44,  1.1771e-43,  6.8664e-44]],\n",
              "\n",
              "        [[ 7.5670e-44,  8.1275e-44,  7.1466e-44,  7.0065e-44],\n",
              "         [ 8.1275e-44,  6.7262e-44,  6.7262e-44,  6.4460e-44],\n",
              "         [ 7.5670e-44,  7.2868e-44,  7.5670e-44,  7.9874e-44]]])"
            ]
          },
          "metadata": {},
          "execution_count": 134
        }
      ]
    },
    {
      "cell_type": "code",
      "metadata": {
        "id": "yjK68Kk-YKCS",
        "colab": {
          "base_uri": "https://localhost:8080/"
        },
        "outputId": "8d0cd1e7-e497-44ac-c42c-6be7afd6c96b"
      },
      "source": [
        "type(a)"
      ],
      "execution_count": null,
      "outputs": [
        {
          "output_type": "execute_result",
          "data": {
            "text/plain": [
              "torch.Tensor"
            ]
          },
          "metadata": {},
          "execution_count": 135
        }
      ]
    },
    {
      "cell_type": "code",
      "metadata": {
        "id": "viLUF7gQYKCU",
        "colab": {
          "base_uri": "https://localhost:8080/"
        },
        "outputId": "57c34d40-d599-4e65-ce84-1b2b23ca80ff"
      },
      "source": [
        "x = a.numpy()\n",
        "x"
      ],
      "execution_count": null,
      "outputs": [
        {
          "output_type": "execute_result",
          "data": {
            "text/plain": [
              "array([[[-5.56221e+24,  3.08118e-41,  7.00649e-44,  6.86636e-44],\n",
              "        [ 6.30584e-44,  6.86636e-44,  6.72623e-44,  6.30584e-44],\n",
              "        [ 7.00649e-44,  6.72623e-44,  1.17709e-43,  6.86636e-44]],\n",
              "\n",
              "       [[ 7.56701e-44,  8.12753e-44,  7.14662e-44,  7.00649e-44],\n",
              "        [ 8.12753e-44,  6.72623e-44,  6.72623e-44,  6.44597e-44],\n",
              "        [ 7.56701e-44,  7.28675e-44,  7.56701e-44,  7.98740e-44]]],\n",
              "      dtype=float32)"
            ]
          },
          "metadata": {},
          "execution_count": 136
        }
      ]
    },
    {
      "cell_type": "code",
      "metadata": {
        "id": "9HxgiLxKYKCV",
        "colab": {
          "base_uri": "https://localhost:8080/"
        },
        "outputId": "24ec3459-041d-49c8-cd68-4f7d6531622e"
      },
      "source": [
        "x.shape"
      ],
      "execution_count": null,
      "outputs": [
        {
          "output_type": "execute_result",
          "data": {
            "text/plain": [
              "(2, 3, 4)"
            ]
          },
          "metadata": {},
          "execution_count": 137
        }
      ]
    },
    {
      "cell_type": "code",
      "metadata": {
        "id": "SdW5bhmeYKCX",
        "colab": {
          "base_uri": "https://localhost:8080/"
        },
        "outputId": "ec9284db-ac45-411c-e93a-aa0458d08f6c"
      },
      "source": [
        "type(x)"
      ],
      "execution_count": null,
      "outputs": [
        {
          "output_type": "execute_result",
          "data": {
            "text/plain": [
              "numpy.ndarray"
            ]
          },
          "metadata": {},
          "execution_count": 138
        }
      ]
    },
    {
      "cell_type": "code",
      "metadata": {
        "id": "GbCc-vnWDj1l"
      },
      "source": [
        "x -= x"
      ],
      "execution_count": null,
      "outputs": []
    },
    {
      "cell_type": "code",
      "metadata": {
        "id": "Ui-4DptBDlet",
        "colab": {
          "base_uri": "https://localhost:8080/"
        },
        "outputId": "ec2f647c-0192-4c15-b45c-b4b853818345"
      },
      "source": [
        "a"
      ],
      "execution_count": null,
      "outputs": [
        {
          "output_type": "execute_result",
          "data": {
            "text/plain": [
              "tensor([[[0., 0., 0., 0.],\n",
              "         [0., 0., 0., 0.],\n",
              "         [0., 0., 0., 0.]],\n",
              "\n",
              "        [[0., 0., 0., 0.],\n",
              "         [0., 0., 0., 0.],\n",
              "         [0., 0., 0., 0.]]])"
            ]
          },
          "metadata": {},
          "execution_count": 140
        }
      ]
    },
    {
      "cell_type": "markdown",
      "metadata": {
        "id": "7-KS81rUYKCY"
      },
      "source": [
        "#### Задание. Реализация функции forward\n",
        "Реализуйте функцию `forward_pass(X, w)` для одного нейрона нейронной сети с активацией ``sigmoid``. Используйте библиотеку PyTorch"
      ]
    },
    {
      "cell_type": "markdown",
      "metadata": {
        "id": "C8dmwhWGxzwl"
      },
      "source": [
        "<img src='https://radioprog.ru/uploads/media/articles/0001/05/267ad35a9e64a7b92c2e3b94940f686816ea6bf8.jpeg'>"
      ]
    },
    {
      "cell_type": "code",
      "metadata": {
        "id": "vkaIwpn6YKCY"
      },
      "source": [
        "def forward_pass(X, w):\n",
        "\n",
        "  logits = X @ w\n",
        "  result  = torch.sigmoid(logits)\n",
        "\n",
        "  return result\n",
        "\n",
        "\n",
        "  \n"
      ],
      "execution_count": null,
      "outputs": []
    },
    {
      "cell_type": "code",
      "metadata": {
        "id": "VyqlDItxYKCZ",
        "colab": {
          "base_uri": "https://localhost:8080/"
        },
        "outputId": "025892ad-c358-4416-b62e-37035bd5e03b"
      },
      "source": [
        "X = torch.FloatTensor([[-5, 5], [2, 3], [1, -1]])\n",
        "print(X.shape)\n",
        "w = torch.FloatTensor([[-0.5], [2.5]])\n",
        "print(w.shape)\n",
        "result = forward_pass(X, w)\n",
        "print('result: {}'.format(result))"
      ],
      "execution_count": null,
      "outputs": [
        {
          "output_type": "stream",
          "name": "stdout",
          "text": [
            "torch.Size([3, 2])\n",
            "torch.Size([2, 1])\n",
            "result: tensor([[1.0000],\n",
            "        [0.9985],\n",
            "        [0.0474]])\n"
          ]
        }
      ]
    },
    {
      "cell_type": "markdown",
      "metadata": {
        "id": "MzLVLQ2GYKCa"
      },
      "source": [
        "## <h1 style=\"text-align: center;\"><a href=\"https://ru.wikipedia.org/wiki/CUDA\">CUDA</a></h3>\n",
        "\n",
        "CUDA --- это программно-аппаратная архитектура параллельных вычислений, которая позволяет существенно увеличить вычислительную производительность благодаря использованию графических процессоров фирмы Nvidia. Для нас CUDA --- это драйвер, который позволяет нам проводить вычисления на GPU."
      ]
    },
    {
      "cell_type": "markdown",
      "metadata": {
        "id": "PrIicAAiYKCa"
      },
      "source": [
        "[CUDA documentation](https://docs.nvidia.com/cuda/)"
      ]
    },
    {
      "cell_type": "markdown",
      "metadata": {
        "id": "2nDkAG6NYKCa"
      },
      "source": [
        "Для вычислений на Pytorch мы можем использовать как CPU (Central Processing Unit), так и GPU (Graphical Processing Unit). Между ними можно легко переключаться, и это очень важно!"
      ]
    },
    {
      "cell_type": "code",
      "metadata": {
        "id": "_0Nsl2IoYKCa",
        "colab": {
          "base_uri": "https://localhost:8080/"
        },
        "outputId": "e911602b-dc43-4469-d00c-8aa76db0840f"
      },
      "source": [
        "x = torch.FloatTensor(1024, 10024).uniform_()\n",
        "x"
      ],
      "execution_count": 2,
      "outputs": [
        {
          "output_type": "execute_result",
          "data": {
            "text/plain": [
              "tensor([[0.3756, 0.2069, 0.3254,  ..., 0.2423, 0.0566, 0.2922],\n",
              "        [0.1180, 0.4965, 0.0201,  ..., 0.5903, 0.7556, 0.8362],\n",
              "        [0.5496, 0.3448, 0.0881,  ..., 0.9473, 0.9369, 0.8386],\n",
              "        ...,\n",
              "        [0.5242, 0.7716, 0.6190,  ..., 0.0894, 0.5038, 0.9043],\n",
              "        [0.7597, 0.6474, 0.5340,  ..., 0.9113, 0.7777, 0.6015],\n",
              "        [0.6013, 0.0333, 0.3386,  ..., 0.2168, 0.0245, 0.5653]])"
            ]
          },
          "metadata": {},
          "execution_count": 2
        }
      ]
    },
    {
      "cell_type": "code",
      "metadata": {
        "id": "FVr5_SAdYKCb",
        "colab": {
          "base_uri": "https://localhost:8080/"
        },
        "outputId": "afab606f-ec58-4b80-d2e3-4b9c4a1955eb"
      },
      "source": [
        "x.is_cuda"
      ],
      "execution_count": 3,
      "outputs": [
        {
          "output_type": "execute_result",
          "data": {
            "text/plain": [
              "False"
            ]
          },
          "metadata": {},
          "execution_count": 3
        }
      ]
    },
    {
      "cell_type": "markdown",
      "metadata": {
        "id": "mAy8GGXAYKCd"
      },
      "source": [
        "#### Кладём тензор на GPU"
      ]
    },
    {
      "cell_type": "code",
      "metadata": {
        "id": "Pofrx0jug6QM",
        "colab": {
          "base_uri": "https://localhost:8080/"
        },
        "outputId": "2b0e7618-af5c-4d64-ccff-1e48e442c7db"
      },
      "source": [
        "!nvidia-smi"
      ],
      "execution_count": 4,
      "outputs": [
        {
          "output_type": "stream",
          "name": "stdout",
          "text": [
            "Sun Mar 20 20:59:53 2022       \n",
            "+-----------------------------------------------------------------------------+\n",
            "| NVIDIA-SMI 460.32.03    Driver Version: 460.32.03    CUDA Version: 11.2     |\n",
            "|-------------------------------+----------------------+----------------------+\n",
            "| GPU  Name        Persistence-M| Bus-Id        Disp.A | Volatile Uncorr. ECC |\n",
            "| Fan  Temp  Perf  Pwr:Usage/Cap|         Memory-Usage | GPU-Util  Compute M. |\n",
            "|                               |                      |               MIG M. |\n",
            "|===============================+======================+======================|\n",
            "|   0  Tesla K80           Off  | 00000000:00:04.0 Off |                    0 |\n",
            "| N/A   73C    P8    35W / 149W |      0MiB / 11441MiB |      0%      Default |\n",
            "|                               |                      |                  N/A |\n",
            "+-------------------------------+----------------------+----------------------+\n",
            "                                                                               \n",
            "+-----------------------------------------------------------------------------+\n",
            "| Processes:                                                                  |\n",
            "|  GPU   GI   CI        PID   Type   Process name                  GPU Memory |\n",
            "|        ID   ID                                                   Usage      |\n",
            "|=============================================================================|\n",
            "|  No running processes found                                                 |\n",
            "+-----------------------------------------------------------------------------+\n"
          ]
        }
      ]
    },
    {
      "cell_type": "code",
      "metadata": {
        "id": "6UGKZbfyYKCd"
      },
      "source": [
        "x = x.cuda()"
      ],
      "execution_count": 5,
      "outputs": []
    },
    {
      "cell_type": "markdown",
      "source": [
        "nvidia-smi - это запуск менеджера памяти видеокарты и мы можем посмотреть че и как мы на ней испольузем"
      ],
      "metadata": {
        "id": "C37hmQrIIX7a"
      }
    },
    {
      "cell_type": "code",
      "metadata": {
        "id": "RwvXhDD2gezR",
        "colab": {
          "base_uri": "https://localhost:8080/"
        },
        "outputId": "4b3ee03e-b396-4776-b1a2-e858b3435b05"
      },
      "source": [
        "!nvidia-smi"
      ],
      "execution_count": 6,
      "outputs": [
        {
          "output_type": "stream",
          "name": "stdout",
          "text": [
            "Sun Mar 20 21:00:17 2022       \n",
            "+-----------------------------------------------------------------------------+\n",
            "| NVIDIA-SMI 460.32.03    Driver Version: 460.32.03    CUDA Version: 11.2     |\n",
            "|-------------------------------+----------------------+----------------------+\n",
            "| GPU  Name        Persistence-M| Bus-Id        Disp.A | Volatile Uncorr. ECC |\n",
            "| Fan  Temp  Perf  Pwr:Usage/Cap|         Memory-Usage | GPU-Util  Compute M. |\n",
            "|                               |                      |               MIG M. |\n",
            "|===============================+======================+======================|\n",
            "|   0  Tesla K80           Off  | 00000000:00:04.0 Off |                    0 |\n",
            "| N/A   75C    P0    76W / 149W |    554MiB / 11441MiB |      0%      Default |\n",
            "|                               |                      |                  N/A |\n",
            "+-------------------------------+----------------------+----------------------+\n",
            "                                                                               \n",
            "+-----------------------------------------------------------------------------+\n",
            "| Processes:                                                                  |\n",
            "|  GPU   GI   CI        PID   Type   Process name                  GPU Memory |\n",
            "|        ID   ID                                                   Usage      |\n",
            "|=============================================================================|\n",
            "+-----------------------------------------------------------------------------+\n"
          ]
        }
      ]
    },
    {
      "cell_type": "code",
      "metadata": {
        "id": "hyhJsU5ib591",
        "colab": {
          "base_uri": "https://localhost:8080/"
        },
        "outputId": "7ae93c4d-a54b-404e-ec2e-5d3ba14781a8"
      },
      "source": [
        "x"
      ],
      "execution_count": 7,
      "outputs": [
        {
          "output_type": "execute_result",
          "data": {
            "text/plain": [
              "tensor([[0.3756, 0.2069, 0.3254,  ..., 0.2423, 0.0566, 0.2922],\n",
              "        [0.1180, 0.4965, 0.0201,  ..., 0.5903, 0.7556, 0.8362],\n",
              "        [0.5496, 0.3448, 0.0881,  ..., 0.9473, 0.9369, 0.8386],\n",
              "        ...,\n",
              "        [0.5242, 0.7716, 0.6190,  ..., 0.0894, 0.5038, 0.9043],\n",
              "        [0.7597, 0.6474, 0.5340,  ..., 0.9113, 0.7777, 0.6015],\n",
              "        [0.6013, 0.0333, 0.3386,  ..., 0.2168, 0.0245, 0.5653]],\n",
              "       device='cuda:0')"
            ]
          },
          "metadata": {},
          "execution_count": 7
        }
      ]
    },
    {
      "cell_type": "code",
      "metadata": {
        "id": "ue2SLd9nYKCd",
        "colab": {
          "base_uri": "https://localhost:8080/"
        },
        "outputId": "f626c7bd-805d-4f96-db2b-19ea9657bd8f"
      },
      "source": [
        "x = x.cpu()     # перевод обратно на cpu\n",
        "!nvidia-smi\n",
        "\n",
        "torch.cuda.empty_cache()\n",
        "!nvidia-smi"
      ],
      "execution_count": 8,
      "outputs": [
        {
          "output_type": "stream",
          "name": "stdout",
          "text": [
            "Sun Mar 20 21:01:46 2022       \n",
            "+-----------------------------------------------------------------------------+\n",
            "| NVIDIA-SMI 460.32.03    Driver Version: 460.32.03    CUDA Version: 11.2     |\n",
            "|-------------------------------+----------------------+----------------------+\n",
            "| GPU  Name        Persistence-M| Bus-Id        Disp.A | Volatile Uncorr. ECC |\n",
            "| Fan  Temp  Perf  Pwr:Usage/Cap|         Memory-Usage | GPU-Util  Compute M. |\n",
            "|                               |                      |               MIG M. |\n",
            "|===============================+======================+======================|\n",
            "|   0  Tesla K80           Off  | 00000000:00:04.0 Off |                    0 |\n",
            "| N/A   73C    P0    75W / 149W |    556MiB / 11441MiB |      3%      Default |\n",
            "|                               |                      |                  N/A |\n",
            "+-------------------------------+----------------------+----------------------+\n",
            "                                                                               \n",
            "+-----------------------------------------------------------------------------+\n",
            "| Processes:                                                                  |\n",
            "|  GPU   GI   CI        PID   Type   Process name                  GPU Memory |\n",
            "|        ID   ID                                                   Usage      |\n",
            "|=============================================================================|\n",
            "+-----------------------------------------------------------------------------+\n",
            "Sun Mar 20 21:01:46 2022       \n",
            "+-----------------------------------------------------------------------------+\n",
            "| NVIDIA-SMI 460.32.03    Driver Version: 460.32.03    CUDA Version: 11.2     |\n",
            "|-------------------------------+----------------------+----------------------+\n",
            "| GPU  Name        Persistence-M| Bus-Id        Disp.A | Volatile Uncorr. ECC |\n",
            "| Fan  Temp  Perf  Pwr:Usage/Cap|         Memory-Usage | GPU-Util  Compute M. |\n",
            "|                               |                      |               MIG M. |\n",
            "|===============================+======================+======================|\n",
            "|   0  Tesla K80           Off  | 00000000:00:04.0 Off |                    0 |\n",
            "| N/A   73C    P0    76W / 149W |    554MiB / 11441MiB |      0%      Default |\n",
            "|                               |                      |                  N/A |\n",
            "+-------------------------------+----------------------+----------------------+\n",
            "                                                                               \n",
            "+-----------------------------------------------------------------------------+\n",
            "| Processes:                                                                  |\n",
            "|  GPU   GI   CI        PID   Type   Process name                  GPU Memory |\n",
            "|        ID   ID                                                   Usage      |\n",
            "|=============================================================================|\n",
            "+-----------------------------------------------------------------------------+\n"
          ]
        }
      ]
    },
    {
      "cell_type": "code",
      "metadata": {
        "id": "qVVp6BnbD7fy",
        "colab": {
          "base_uri": "https://localhost:8080/"
        },
        "outputId": "4e3fb230-d421-4a6a-9061-8cc7b6ae4c29"
      },
      "source": [
        "device = torch.device(\"cuda:0\") if torch.cuda.is_available() else torch.device(\"cpu\")\n",
        "\n",
        "x = x.to(device)\n",
        "x"
      ],
      "execution_count": 10,
      "outputs": [
        {
          "output_type": "execute_result",
          "data": {
            "text/plain": [
              "tensor([[0.3756, 0.2069, 0.3254,  ..., 0.2423, 0.0566, 0.2922],\n",
              "        [0.1180, 0.4965, 0.0201,  ..., 0.5903, 0.7556, 0.8362],\n",
              "        [0.5496, 0.3448, 0.0881,  ..., 0.9473, 0.9369, 0.8386],\n",
              "        ...,\n",
              "        [0.5242, 0.7716, 0.6190,  ..., 0.0894, 0.5038, 0.9043],\n",
              "        [0.7597, 0.6474, 0.5340,  ..., 0.9113, 0.7777, 0.6015],\n",
              "        [0.6013, 0.0333, 0.3386,  ..., 0.2168, 0.0245, 0.5653]],\n",
              "       device='cuda:0')"
            ]
          },
          "metadata": {},
          "execution_count": 10
        }
      ]
    },
    {
      "cell_type": "markdown",
      "metadata": {
        "id": "dI73B59PYKCg"
      },
      "source": [
        "Умножим два тензора в GPU и вернём результат обратно на CPU:"
      ]
    },
    {
      "cell_type": "code",
      "metadata": {
        "id": "KS4QxJJoYKCg"
      },
      "source": [
        "a = torch.FloatTensor(10000, 10000).uniform_()\n",
        "b = torch.FloatTensor(10000, 10000).uniform_()\n",
        "c = a.cuda().mul(b.cuda()).cpu()"
      ],
      "execution_count": 11,
      "outputs": []
    },
    {
      "cell_type": "code",
      "metadata": {
        "id": "1ImlgEbwYKCg",
        "colab": {
          "base_uri": "https://localhost:8080/"
        },
        "outputId": "b30946cf-408f-4624-9bdf-c1f3e1ec0e04"
      },
      "source": [
        "c"
      ],
      "execution_count": 12,
      "outputs": [
        {
          "output_type": "execute_result",
          "data": {
            "text/plain": [
              "tensor([[0.0560, 0.3165, 0.3667,  ..., 0.0830, 0.3040, 0.2196],\n",
              "        [0.1941, 0.4129, 0.1388,  ..., 0.5663, 0.1569, 0.2935],\n",
              "        [0.3692, 0.3550, 0.0386,  ..., 0.2871, 0.3629, 0.3737],\n",
              "        ...,\n",
              "        [0.0530, 0.4485, 0.5381,  ..., 0.1172, 0.2278, 0.6046],\n",
              "        [0.7796, 0.1717, 0.2758,  ..., 0.6160, 0.3141, 0.2081],\n",
              "        [0.1385, 0.0371, 0.0459,  ..., 0.0945, 0.0197, 0.0521]])"
            ]
          },
          "metadata": {},
          "execution_count": 12
        }
      ]
    },
    {
      "cell_type": "code",
      "metadata": {
        "id": "4DAN9MhDYKCh",
        "colab": {
          "base_uri": "https://localhost:8080/"
        },
        "outputId": "b7ad5cdd-bba3-475d-b8e5-6df9e5b297af"
      },
      "source": [
        "a"
      ],
      "execution_count": 13,
      "outputs": [
        {
          "output_type": "execute_result",
          "data": {
            "text/plain": [
              "tensor([[0.2797, 0.6881, 0.4570,  ..., 0.9688, 0.4101, 0.4578],\n",
              "        [0.6291, 0.8960, 0.2573,  ..., 0.6860, 0.4681, 0.4858],\n",
              "        [0.9168, 0.4356, 0.1330,  ..., 0.3738, 0.3925, 0.5650],\n",
              "        ...,\n",
              "        [0.4453, 0.9780, 0.5487,  ..., 0.5733, 0.8993, 0.7537],\n",
              "        [0.8102, 0.2893, 0.8611,  ..., 0.9101, 0.7441, 0.3559],\n",
              "        [0.5582, 0.3334, 0.1907,  ..., 0.1996, 0.1934, 0.9999]])"
            ]
          },
          "metadata": {},
          "execution_count": 13
        }
      ]
    },
    {
      "cell_type": "markdown",
      "metadata": {
        "id": "xWc-PiA9YKCi"
      },
      "source": [
        "Тензоры из разных областей памяти не совместимы:"
      ]
    },
    {
      "cell_type": "code",
      "metadata": {
        "id": "1lwV1sgSYKCi"
      },
      "source": [
        "a = torch.FloatTensor(10000, 10000).uniform_().cpu()\n",
        "b = torch.FloatTensor(10000, 10000).uniform_().cuda()"
      ],
      "execution_count": 14,
      "outputs": []
    },
    {
      "cell_type": "code",
      "metadata": {
        "id": "G6tYdYtTYKCj",
        "colab": {
          "base_uri": "https://localhost:8080/",
          "height": 165
        },
        "outputId": "da60b9a1-4920-46e8-8aa9-47049a2ac0fe"
      },
      "source": [
        "a + b"
      ],
      "execution_count": 15,
      "outputs": [
        {
          "output_type": "error",
          "ename": "RuntimeError",
          "evalue": "ignored",
          "traceback": [
            "\u001b[0;31m---------------------------------------------------------------------------\u001b[0m",
            "\u001b[0;31mRuntimeError\u001b[0m                              Traceback (most recent call last)",
            "\u001b[0;32m<ipython-input-15-bd58363a63fc>\u001b[0m in \u001b[0;36m<module>\u001b[0;34m()\u001b[0m\n\u001b[0;32m----> 1\u001b[0;31m \u001b[0ma\u001b[0m \u001b[0;34m+\u001b[0m \u001b[0mb\u001b[0m\u001b[0;34m\u001b[0m\u001b[0;34m\u001b[0m\u001b[0m\n\u001b[0m",
            "\u001b[0;31mRuntimeError\u001b[0m: Expected all tensors to be on the same device, but found at least two devices, cuda:0 and cpu!"
          ]
        }
      ]
    },
    {
      "cell_type": "markdown",
      "metadata": {
        "id": "QEtwaIxDYKCk"
      },
      "source": [
        "### Пример работы на GPU"
      ]
    },
    {
      "cell_type": "code",
      "metadata": {
        "id": "PRmnPD5EcpcF"
      },
      "source": [
        "device = 'cuda' if torch.cuda.is_available() else 'cpu'"
      ],
      "execution_count": 16,
      "outputs": []
    },
    {
      "cell_type": "code",
      "metadata": {
        "id": "bJgVfAbUYKCk",
        "scrolled": true,
        "colab": {
          "base_uri": "https://localhost:8080/"
        },
        "outputId": "925d8981-7ea0-4c2f-ef68-ea6e121f525d"
      },
      "source": [
        "x = torch.FloatTensor(5, 5, 5).uniform_()\n",
        "\n",
        "# проверить наличие CUDA (NVIDIA GPU)\n",
        "if torch.cuda.is_available():\n",
        "    # получить имя устройства CUDA\n",
        "    device = torch.device('cuda')          # Объект CUDA-устройства\n",
        "    y = torch.ones_like(x, device=device)  # создаем тензор на GPU\n",
        "    x = x.to(device)                       # или просто `.to(\"cuda\")`\n",
        "    z = x + y\n",
        "    print(z)\n",
        "    # вы можете установить тип во время операции `.to`\n",
        "    print(z.to(\"cpu\", torch.double))"
      ],
      "execution_count": 17,
      "outputs": [
        {
          "output_type": "stream",
          "name": "stdout",
          "text": [
            "tensor([[[1.7456, 1.9719, 1.0621, 1.4190, 1.6812],\n",
            "         [1.6267, 1.6974, 1.2009, 1.5465, 1.1182],\n",
            "         [1.6594, 1.5669, 1.3474, 1.1816, 1.0105],\n",
            "         [1.2719, 1.5889, 1.9252, 1.8799, 1.1095],\n",
            "         [1.8285, 1.0550, 1.1286, 1.7470, 1.0748]],\n",
            "\n",
            "        [[1.2628, 1.3911, 1.7887, 1.6680, 1.1268],\n",
            "         [1.0104, 1.6499, 1.1577, 1.7014, 1.0392],\n",
            "         [1.2704, 1.1257, 1.7611, 1.5750, 1.6111],\n",
            "         [1.4265, 1.9357, 1.2801, 1.2816, 1.8465],\n",
            "         [1.1274, 1.2739, 1.8632, 1.6958, 1.0566]],\n",
            "\n",
            "        [[1.3481, 1.9585, 1.7634, 1.1588, 1.2123],\n",
            "         [1.6122, 1.7471, 1.6794, 1.5227, 1.2473],\n",
            "         [1.4637, 1.0782, 1.0136, 1.1506, 1.5530],\n",
            "         [1.8543, 1.3607, 1.6710, 1.1511, 1.2382],\n",
            "         [1.9615, 1.4392, 1.2429, 1.1312, 1.7881]],\n",
            "\n",
            "        [[1.5520, 1.6059, 1.8481, 1.6449, 1.9766],\n",
            "         [1.3464, 1.3732, 1.1078, 1.1610, 1.3233],\n",
            "         [1.8392, 1.7417, 1.8765, 1.7180, 1.1081],\n",
            "         [1.6222, 1.6227, 1.5524, 1.0934, 1.5903],\n",
            "         [1.9284, 1.6918, 1.4269, 1.5512, 1.6602]],\n",
            "\n",
            "        [[1.0747, 1.6226, 1.2773, 1.0933, 1.6213],\n",
            "         [1.5795, 1.3889, 1.2045, 1.7407, 1.9581],\n",
            "         [1.8988, 1.0748, 1.4367, 1.1843, 1.1330],\n",
            "         [1.3973, 1.0834, 1.2372, 1.5198, 1.4296],\n",
            "         [1.5587, 1.8406, 1.9331, 1.7000, 1.7625]]], device='cuda:0')\n",
            "tensor([[[1.7456, 1.9719, 1.0621, 1.4190, 1.6812],\n",
            "         [1.6267, 1.6974, 1.2009, 1.5465, 1.1182],\n",
            "         [1.6594, 1.5669, 1.3474, 1.1816, 1.0105],\n",
            "         [1.2719, 1.5889, 1.9252, 1.8799, 1.1095],\n",
            "         [1.8285, 1.0550, 1.1286, 1.7470, 1.0748]],\n",
            "\n",
            "        [[1.2628, 1.3911, 1.7887, 1.6680, 1.1268],\n",
            "         [1.0104, 1.6499, 1.1577, 1.7014, 1.0392],\n",
            "         [1.2704, 1.1257, 1.7611, 1.5750, 1.6111],\n",
            "         [1.4265, 1.9357, 1.2801, 1.2816, 1.8465],\n",
            "         [1.1274, 1.2739, 1.8632, 1.6958, 1.0566]],\n",
            "\n",
            "        [[1.3481, 1.9585, 1.7634, 1.1588, 1.2123],\n",
            "         [1.6122, 1.7471, 1.6794, 1.5227, 1.2473],\n",
            "         [1.4637, 1.0782, 1.0136, 1.1506, 1.5530],\n",
            "         [1.8543, 1.3607, 1.6710, 1.1511, 1.2382],\n",
            "         [1.9615, 1.4392, 1.2429, 1.1312, 1.7881]],\n",
            "\n",
            "        [[1.5520, 1.6059, 1.8481, 1.6449, 1.9766],\n",
            "         [1.3464, 1.3732, 1.1078, 1.1610, 1.3233],\n",
            "         [1.8392, 1.7417, 1.8765, 1.7180, 1.1081],\n",
            "         [1.6222, 1.6227, 1.5524, 1.0934, 1.5903],\n",
            "         [1.9284, 1.6918, 1.4269, 1.5512, 1.6602]],\n",
            "\n",
            "        [[1.0747, 1.6226, 1.2773, 1.0933, 1.6213],\n",
            "         [1.5795, 1.3889, 1.2045, 1.7407, 1.9581],\n",
            "         [1.8988, 1.0748, 1.4367, 1.1843, 1.1330],\n",
            "         [1.3973, 1.0834, 1.2372, 1.5198, 1.4296],\n",
            "         [1.5587, 1.8406, 1.9331, 1.7000, 1.7625]]], dtype=torch.float64)\n"
          ]
        }
      ]
    },
    {
      "cell_type": "markdown",
      "metadata": {
        "id": "iFg82MJIYKCl"
      },
      "source": [
        "## AutoGrad\n",
        "\n",
        "За что мы любим PyTorch --- за то, что в нём можно автоматически дифференцировать функции! Об этом можно было бы только мечтать в Numpy. Дифференцирование функций происходит по формуле производной композиции."
      ]
    },
    {
      "cell_type": "markdown",
      "metadata": {
        "id": "63BaBsy4iuwl"
      },
      "source": [
        "**Правило производной композиции (a.k.a. backpropagation)**\n",
        "\n",
        "Пусть есть функция $f(w(\\theta))$. Вычислим её производную:\n",
        "$${\\frac  {\\partial{f}}{\\partial{\\theta}}}\n",
        "={\\frac  {\\partial{f}}{\\partial{w}}}\\cdot {\\frac  {\\partial{w}}{\\partial{\\theta}}}$$\n",
        "\n",
        "\n",
        "*Как рассказывалось на лекции, в многомерном случае можно записать аналог этой формулы:*\n",
        "$$\n",
        "D_\\theta(f\\circ w) = D_{w(\\theta)}(f)\\circ D_\\theta(w)\n",
        "$$\n",
        "\n",
        "Простой пример обратного распространения градиента:\n",
        "\n",
        "$$y = \\sin \\left(x_2^2(x_1 + x_2)\\right)$$\n",
        "\n",
        "<img src=\"https://ars.els-cdn.com/content/image/1-s2.0-S0010465515004099-gr1.jpg\" width=700></img>\n"
      ]
    },
    {
      "cell_type": "markdown",
      "metadata": {
        "id": "udpOWYK-YKCm"
      },
      "source": [
        "Autograd позволяет производить автоматическое дифференцирование для всех операций на тензорах. Граф вычислений, в отличие от Tensorflow, строится динамически. Давайте посмотрим, как это работает."
      ]
    },
    {
      "cell_type": "markdown",
      "metadata": {
        "id": "AEDz971fYKCn"
      },
      "source": [
        "#### Задание. Реализуйте обучение в логистической регрессии"
      ]
    },
    {
      "cell_type": "code",
      "metadata": {
        "id": "bpie5O9zh0Ar"
      },
      "source": [
        "# Разберем пример: применим линейную регрессию цен на жилье в Бостоне."
      ],
      "execution_count": null,
      "outputs": []
    },
    {
      "cell_type": "code",
      "metadata": {
        "id": "Z3IzUjAxh0Oy",
        "colab": {
          "base_uri": "https://localhost:8080/",
          "height": 907
        },
        "outputId": "932e0838-8c3a-47da-f4bd-01fb996de48c"
      },
      "source": [
        "import matplotlib.pyplot as plt\n",
        "import torch\n",
        "%matplotlib inline\n",
        "\n",
        "from sklearn.datasets import load_boston\n",
        "boston = load_boston()\n",
        "plt.scatter(boston.data[:, -1], boston.target)"
      ],
      "execution_count": 18,
      "outputs": [
        {
          "output_type": "stream",
          "name": "stderr",
          "text": [
            "/usr/local/lib/python3.7/dist-packages/sklearn/utils/deprecation.py:87: FutureWarning: Function load_boston is deprecated; `load_boston` is deprecated in 1.0 and will be removed in 1.2.\n",
            "\n",
            "    The Boston housing prices dataset has an ethical problem. You can refer to\n",
            "    the documentation of this function for further details.\n",
            "\n",
            "    The scikit-learn maintainers therefore strongly discourage the use of this\n",
            "    dataset unless the purpose of the code is to study and educate about\n",
            "    ethical issues in data science and machine learning.\n",
            "\n",
            "    In this special case, you can fetch the dataset from the original\n",
            "    source::\n",
            "\n",
            "        import pandas as pd\n",
            "        import numpy as np\n",
            "\n",
            "\n",
            "        data_url = \"http://lib.stat.cmu.edu/datasets/boston\"\n",
            "        raw_df = pd.read_csv(data_url, sep=\"\\s+\", skiprows=22, header=None)\n",
            "        data = np.hstack([raw_df.values[::2, :], raw_df.values[1::2, :2]])\n",
            "        target = raw_df.values[1::2, 2]\n",
            "\n",
            "    Alternative datasets include the California housing dataset (i.e.\n",
            "    :func:`~sklearn.datasets.fetch_california_housing`) and the Ames housing\n",
            "    dataset. You can load the datasets as follows::\n",
            "\n",
            "        from sklearn.datasets import fetch_california_housing\n",
            "        housing = fetch_california_housing()\n",
            "\n",
            "    for the California housing dataset and::\n",
            "\n",
            "        from sklearn.datasets import fetch_openml\n",
            "        housing = fetch_openml(name=\"house_prices\", as_frame=True)\n",
            "\n",
            "    for the Ames housing dataset.\n",
            "    \n",
            "  warnings.warn(msg, category=FutureWarning)\n"
          ]
        },
        {
          "output_type": "execute_result",
          "data": {
            "text/plain": [
              "<matplotlib.collections.PathCollection at 0x7fa32a866350>"
            ]
          },
          "metadata": {},
          "execution_count": 18
        },
        {
          "output_type": "display_data",
          "data": {
            "text/plain": [
              "<Figure size 432x288 with 1 Axes>"
            ],
            "image/png": "[encoded data removed]"
          },
          "metadata": {
            "needs_background": "light"
          }
        }
      ]
    },
    {
      "cell_type": "code",
      "metadata": {
        "id": "PqGRzUWDh0Sz"
      },
      "source": [
        "w = torch.zeros(1, requires_grad=True)\n",
        "b = torch.zeros(1, requires_grad=True)\n",
        "\n",
        "x = torch.tensor(boston.data[:, -1] / 10, dtype=torch.float32)\n",
        "y = torch.tensor(boston.target, dtype=torch.float32)"
      ],
      "execution_count": 19,
      "outputs": []
    },
    {
      "cell_type": "code",
      "metadata": {
        "id": "ZfSUm56t35Id"
      },
      "source": [
        "y_pred = w * x + b\n",
        "loss = torch.mean((y_pred - y)**2)\n",
        "\n",
        "# propagete gradients\n",
        "loss.backward()"
      ],
      "execution_count": 24,
      "outputs": []
    },
    {
      "cell_type": "code",
      "metadata": {
        "colab": {
          "base_uri": "https://localhost:8080/"
        },
        "id": "t715-JTs3_fl",
        "outputId": "75c107bf-327c-4ce3-9c98-ca4a12a8d0bd"
      },
      "source": [
        "print(\"dL/dw = \\n\", w.grad)\n",
        "print(\"dL/db = \\n\", b.grad)"
      ],
      "execution_count": 25,
      "outputs": [
        {
          "output_type": "stream",
          "name": "stdout",
          "text": [
            "dL/dw = \n",
            " tensor([-142.0544])\n",
            "dL/db = \n",
            " tensor([-135.1968])\n"
          ]
        }
      ]
    },
    {
      "cell_type": "code",
      "metadata": {
        "colab": {
          "base_uri": "https://localhost:8080/",
          "height": 282
        },
        "id": "oFUyNOs335d_",
        "outputId": "bc74876b-e0e0-42de-d25b-4a30550bd8da"
      },
      "source": [
        "from IPython.display import clear_output\n",
        "\n",
        "for i in range(200):\n",
        "\n",
        "    y_pred = w * x + b\n",
        "\n",
        "    # Вычисляем функцию ошибок\n",
        "    loss = torch.mean((y_pred - y)**2)\n",
        "\n",
        "    # Вычисляем градиенты\n",
        "    loss.backward()     # оно чисто само разворачивает граф вычислений и просто считает все градиенты loss\n",
        "\n",
        "    # Делаем шаг градиентного спуска по матрице весов\n",
        "    w.data -= 0.05 * w.grad.data\n",
        "    b.data -= 0.05 * b.grad.data\n",
        "\n",
        "    # обнуляем градиенты\n",
        "    w.grad.data.zero_()\n",
        "    b.grad.data.zero_()\n",
        "\n",
        "    # the rest of code is just bells and whistles\n",
        "    if (i+1) % 5 == 0:\n",
        "        clear_output(True)\n",
        "        plt.scatter(x.data.numpy(), y.data.numpy())\n",
        "        plt.scatter(x.data.numpy(), y_pred.data.numpy(),\n",
        "                    color='orange', linewidth=5)\n",
        "        plt.show()\n",
        "\n",
        "        print(\"loss = \", loss.data.numpy())\n",
        "        if loss.data.numpy() < 0.5:\n",
        "            print(\"Done!\")\n",
        "            break"
      ],
      "execution_count": 28,
      "outputs": [
        {
          "output_type": "display_data",
          "data": {
            "text/plain": [
              "<Figure size 432x288 with 1 Axes>"
            ],
            "image/png": "[encoded data removed]"
          },
          "metadata": {
            "needs_background": "light"
          }
        },
        {
          "output_type": "stream",
          "name": "stdout",
          "text": [
            "loss =  38.488186\n"
          ]
        }
      ]
    },
    {
      "cell_type": "markdown",
      "metadata": {
        "id": "N8QDKc1D4HHo"
      },
      "source": [
        "Посмотрим градиенты на примере двухслойной сети"
      ]
    },
    {
      "cell_type": "code",
      "metadata": {
        "id": "rYWqXsAjYKCn"
      },
      "source": [
        "dtype = torch.float\n",
        "device = torch.device(\"cuda:0\")\n",
        "\n",
        "# N - размер батча; D_in - входной размер;\n",
        "# H - размер скрытого слоя; D_out - размер вывода.\n",
        "N, D_in, H, D_out = 64, 3, 3, 10\n",
        "\n",
        "# Создание случайных тензоров для хранения входных и выходных данных.\n",
        "# Настройка requires_grad = False указывает, что нам не нужно вычислять градиенты\n",
        "# по отношению к этим тензорам во время обратного прохода.\n",
        "x = torch.randn(N, D_in, device=device, dtype=dtype)\n",
        "y = torch.randn(N, D_out, device=device, dtype=dtype)\n",
        "\n",
        "# Создаем тензоры случайных весов.\n",
        "# Настройка requires_grad = True указывает, что мы хотим вычислять градиенты с\n",
        "# уважение к этим тензорам во время обратного прохода.\n",
        "\n",
        "# Create random Tensors for weights.\n",
        "# Установка requires_grad = True указывает, что мы хотим вычислить градиенты \n",
        "# относительно этих тензоров во время обратного прохода.\n",
        "w1 = torch.randn(D_in, H, device=device, dtype=dtype, requires_grad=True)\n",
        "w2 = torch.randn(H, D_out, device=device, dtype=dtype, requires_grad=True)"
      ],
      "execution_count": 31,
      "outputs": []
    },
    {
      "cell_type": "code",
      "metadata": {
        "id": "cpDU8Q-LifdW"
      },
      "source": [
        "y_pred = (x @ w1).clamp(min=0).matmul(w2)\n",
        "loss = (y_pred - y).pow(2).sum()\n",
        "\n",
        "# вычисляем градиенты\n",
        "loss.backward()"
      ],
      "execution_count": 35,
      "outputs": []
    },
    {
      "cell_type": "code",
      "metadata": {
        "id": "T3vfuF-wXS8O",
        "colab": {
          "base_uri": "https://localhost:8080/"
        },
        "outputId": "b77d7645-b21a-4b13-9a92-75930a728e48"
      },
      "source": [
        "print((y_pred - y).pow(2).sum())"
      ],
      "execution_count": 36,
      "outputs": [
        {
          "output_type": "stream",
          "name": "stdout",
          "text": [
            "tensor(3546.8975, device='cuda:0', grad_fn=<SumBackward0>)\n"
          ]
        }
      ]
    },
    {
      "cell_type": "code",
      "metadata": {
        "id": "qLkn5C7JYKCp",
        "colab": {
          "base_uri": "https://localhost:8080/"
        },
        "outputId": "258aa188-32fb-4844-c9f0-1eac0f2bab6d"
      },
      "source": [
        "w1.grad, w2.grad"
      ],
      "execution_count": 37,
      "outputs": [
        {
          "output_type": "execute_result",
          "data": {
            "text/plain": [
              "(tensor([[ -139.3848,  2033.9648, -3709.4380],\n",
              "         [  792.4389, -2128.0146,  -646.7482],\n",
              "         [ 1443.6785,  3583.8228,  2897.4265]], device='cuda:0'),\n",
              " tensor([[   71.2442,   130.6475,  -125.0406,  -299.0156,  -208.0817,   653.0039,\n",
              "             73.3391,  -237.7611,   477.8177,   591.1015],\n",
              "         [  -41.2186,   446.0394,   188.3613,   161.9064,   -64.3841,  1396.1455,\n",
              "            135.2845,  -251.3086,  1037.8093,   839.6355],\n",
              "         [ -294.7929,     7.8995,   792.5953, -1480.1411,  -728.0333,  1852.6747,\n",
              "           1000.1161,  -271.7081,   393.6157,  1176.6353]], device='cuda:0'))"
            ]
          },
          "metadata": {},
          "execution_count": 37
        }
      ]
    },
    {
      "cell_type": "code",
      "metadata": {
        "id": "jr19Gh3ZU2Ws",
        "colab": {
          "base_uri": "https://localhost:8080/"
        },
        "outputId": "9b966faf-d1c4-4046-e85f-a5080ef8e003"
      },
      "source": [
        "loss.grad # нет доступа к нелистовым градиентам в дереве AD"
      ],
      "execution_count": 38,
      "outputs": [
        {
          "output_type": "stream",
          "name": "stderr",
          "text": [
            "/usr/local/lib/python3.7/dist-packages/torch/_tensor.py:1013: UserWarning: The .grad attribute of a Tensor that is not a leaf Tensor is being accessed. Its .grad attribute won't be populated during autograd.backward(). If you indeed want the .grad field to be populated for a non-leaf Tensor, use .retain_grad() on the non-leaf Tensor. If you access the non-leaf Tensor by mistake, make sure you access the leaf Tensor instead. See github.com/pytorch/pytorch/pull/30531 for more informations. (Triggered internally at  aten/src/ATen/core/TensorBody.h:417.)\n",
            "  return self._grad\n"
          ]
        }
      ]
    },
    {
      "cell_type": "code",
      "metadata": {
        "id": "9U4CN8EQSrrr"
      },
      "source": [
        "# заставляем переменную запоминать градиенты функции потерь, но для этого еще надо из нелистовых градиентов запомнать dL/dy_pred\n",
        "y_pred = (x @ w1).clamp(min=0).matmul(w2)\n",
        "y_pred.retain_grad()\n",
        "\n",
        "loss = (y_pred - y).pow(2).sum()\n",
        "loss.retain_grad()\n",
        "\n",
        "loss.backward()"
      ],
      "execution_count": 40,
      "outputs": []
    },
    {
      "cell_type": "code",
      "metadata": {
        "id": "IKj2jd0LSwI_",
        "colab": {
          "base_uri": "https://localhost:8080/"
        },
        "outputId": "253c511d-4fb1-4224-b898-dc9602c607ac"
      },
      "source": [
        "loss.grad   # это типо dL/dL"
      ],
      "execution_count": 44,
      "outputs": [
        {
          "output_type": "execute_result",
          "data": {
            "text/plain": [
              "tensor(1., device='cuda:0')"
            ]
          },
          "metadata": {},
          "execution_count": 44
        }
      ]
    },
    {
      "cell_type": "code",
      "source": [
        "y_pred.grad"
      ],
      "metadata": {
        "colab": {
          "base_uri": "https://localhost:8080/"
        },
        "id": "56RbKnjLOXlb",
        "outputId": "99cbe6b5-eee4-45c9-e932-5bc7353224cb"
      },
      "execution_count": 45,
      "outputs": [
        {
          "output_type": "execute_result",
          "data": {
            "text/plain": [
              "tensor([[-1.7604e+00, -2.3833e-01,  1.2507e+01, -6.7140e+00, -3.8463e+00,\n",
              "          1.8531e+01,  9.9664e+00, -2.2767e+00,  5.4493e+00,  7.0028e+00],\n",
              "        [-4.3718e+00, -5.1225e+00,  1.0306e+01, -1.7012e+01, -9.0890e+00,\n",
              "          1.7467e+01,  1.3186e+01, -2.4667e+00, -1.6953e+00,  1.1125e+01],\n",
              "        [-1.7234e+00, -2.0518e+00,  1.2938e+00, -1.1474e+00, -9.4968e-01,\n",
              "          1.2218e+00, -1.4705e+00,  1.8388e+00,  3.1475e+00,  4.4584e+00],\n",
              "        [-3.2938e-01,  3.5096e+00,  2.7762e+00,  3.5184e+00,  1.6808e+00,\n",
              "          7.0574e+00, -3.4326e+00,  6.7438e-01,  4.7997e+00,  3.8946e+00],\n",
              "        [-3.5682e+00, -2.7303e+00,  9.6957e+00, -1.6248e+01, -7.0368e+00,\n",
              "          1.6465e+01,  1.0555e+01, -3.6802e+00, -4.3459e+00,  6.2708e+00],\n",
              "        [ 1.7156e+00, -2.1392e+00,  4.3949e+00, -8.4341e-01, -3.2067e+00,\n",
              "          4.0363e+00,  1.8564e+00, -1.7570e+00,  2.9393e+00,  2.7964e+00],\n",
              "        [ 1.0851e+00, -2.4008e+00,  2.6862e+00, -1.3891e+01, -3.0429e+00,\n",
              "          7.4325e+00,  8.2774e+00, -3.5171e+00,  8.3656e-01,  8.0342e+00],\n",
              "        [-2.3084e+00,  1.6914e-01,  6.4428e-01,  8.3212e-01, -2.3426e+00,\n",
              "          4.2107e+00, -2.8752e+00,  2.1442e+00,  2.5370e+00,  2.9007e+00],\n",
              "        [ 8.0123e-01,  7.7068e+00,  7.7101e+00,  2.3341e+00, -2.3069e+00,\n",
              "          1.6100e+01,  4.8664e+00, -3.7010e+00,  8.8353e+00,  1.0439e+01],\n",
              "        [-2.6655e+00,  6.4713e+00,  2.3450e+00, -8.4522e+00, -1.1996e+00,\n",
              "          8.8237e+00,  3.1102e+00,  5.8309e-01,  4.1845e+00,  9.0210e+00],\n",
              "        [ 1.0753e+00,  5.2643e+00, -5.0935e-01,  2.4313e+00,  1.9661e+00,\n",
              "          1.4351e+01,  1.8736e+00, -4.7246e-01,  1.1669e+01,  5.9697e+00],\n",
              "        [ 3.3195e-01, -3.1125e+00, -3.2324e-01, -1.1657e+01, -4.6648e+00,\n",
              "          5.8933e+00,  3.0171e+00, -2.2433e+00, -5.6178e-01,  5.8941e+00],\n",
              "        [ 2.6918e+00, -2.4951e+00,  1.5087e-01,  1.2760e-01, -9.6571e-01,\n",
              "         -1.9239e+00,  9.3709e-01,  2.8651e+00, -6.1650e-01, -9.3637e-01],\n",
              "        [ 2.9440e+00,  1.0843e+00, -4.3583e+00, -1.3476e+00, -4.1510e-01,\n",
              "          8.6983e+00, -5.9266e+00, -5.8763e+00,  6.2521e+00,  9.3867e+00],\n",
              "        [ 6.8537e-01,  2.2557e+00,  3.4382e-01, -3.7666e+00, -2.1785e+00,\n",
              "          8.3720e+00,  9.3852e-01, -4.0731e+00,  2.6768e+00,  6.2846e+00],\n",
              "        [-1.8489e+00,  7.6551e-01, -2.1846e+00,  1.0362e-01, -8.0417e-01,\n",
              "         -3.5716e+00,  8.4801e-01,  1.7344e+00, -1.0161e+00,  1.1125e-01],\n",
              "        [-1.3539e+00,  2.7887e+00, -2.4684e+00, -1.3534e+00,  9.0574e-01,\n",
              "          1.0567e+00,  1.6013e+00,  5.9360e-01,  1.0988e+00,  2.3313e+00],\n",
              "        [-9.0990e-02, -1.8233e+00, -1.8450e+00, -3.5312e+00,  3.7547e+00,\n",
              "         -7.7934e-01,  4.3492e+00, -1.1516e+00, -6.1135e-01, -4.3065e+00],\n",
              "        [-3.4434e+00,  2.4762e+00,  1.5303e+00, -2.2878e+00, -2.2237e+00,\n",
              "          8.7969e+00,  2.2181e+00, -4.0662e+00,  8.2372e+00,  9.3156e+00],\n",
              "        [-1.0389e+00,  7.9724e-01, -1.3117e+00, -6.3960e+00, -1.5980e+00,\n",
              "         -1.4474e+00, -3.5406e-02, -2.1427e+00,  1.3626e+00, -5.2146e-02],\n",
              "        [ 9.0287e-01, -8.4845e-01, -1.5782e+00,  2.8829e+00, -2.4006e+00,\n",
              "          6.1210e-01, -2.4909e+00, -2.7050e+00,  8.0462e-01, -8.3917e-01],\n",
              "        [ 7.1464e-01, -6.7636e-01,  2.9081e+00, -3.9905e+00, -2.2550e+00,\n",
              "          2.3057e+00,  3.5413e+00,  1.7042e-01, -2.1684e+00,  2.8131e+00],\n",
              "        [-2.4528e+00, -2.4925e+00, -1.9384e+00, -1.1660e+00, -4.6981e-01,\n",
              "          2.1622e+00,  5.8348e-01, -1.7674e+00,  1.7010e+00, -2.8966e+00],\n",
              "        [-3.8236e+00, -1.4576e-02,  4.7255e+00, -7.9478e+00, -5.3818e+00,\n",
              "          5.1923e+00,  5.5839e+00,  1.5169e+00,  1.5600e+00,  4.8220e+00],\n",
              "        [ 2.3644e+00,  4.8873e-01,  1.0313e+00,  2.0082e+00, -7.0520e-01,\n",
              "         -2.4397e+00, -1.0395e+00, -4.4530e-01,  1.7918e+00, -2.3149e+00],\n",
              "        [-1.7637e+00,  4.5618e-01,  2.3012e-01, -7.5818e+00, -4.3097e+00,\n",
              "          1.4606e+01,  3.9624e+00, -2.9184e+00,  8.7784e+00,  8.8472e+00],\n",
              "        [-3.8474e-01,  2.3165e+00, -4.8468e-02, -3.2607e+00,  1.3608e+00,\n",
              "          8.2024e-01,  7.4570e-01, -2.7604e+00, -1.5524e+00,  1.3858e+00],\n",
              "        [-2.2781e+00, -1.4615e-01,  2.1116e+00,  1.4588e+00,  2.5607e+00,\n",
              "          3.2907e+00,  3.0528e-01,  2.3044e+00,  1.4470e+00,  6.8455e-02],\n",
              "        [ 8.4900e-01,  2.3508e+00, -3.5415e+00,  5.4816e-01, -2.1124e+00,\n",
              "          2.5966e+00,  6.7048e-01, -1.9713e+00,  5.3281e+00,  6.6870e+00],\n",
              "        [-2.8457e+00,  1.0450e+00,  7.3538e-01, -7.9692e-01, -2.7414e-01,\n",
              "         -3.9280e-01,  1.7719e+00,  1.9470e+00,  1.7368e+00, -2.5461e+00],\n",
              "        [ 8.8505e-01,  5.7164e+00, -4.3411e+00,  2.8497e+00,  1.8928e+00,\n",
              "          1.1095e+01, -7.8669e-01, -3.1159e+00,  9.4143e+00,  7.0297e+00],\n",
              "        [-3.9840e-01, -5.4914e-01, -2.8010e+00,  4.0939e-01, -2.1588e+00,\n",
              "         -5.9674e-01,  7.3504e-01,  1.3821e+00, -2.7135e-01, -3.0223e-01],\n",
              "        [-1.0195e+00,  6.4535e+00, -3.0458e+00,  5.9593e+00, -2.0464e+00,\n",
              "          1.3801e+01, -1.2856e+00, -4.1155e+00,  1.2885e+01,  6.1759e+00],\n",
              "        [ 1.1665e+00, -1.1267e+00,  2.6479e+00, -1.2819e+01, -7.9626e+00,\n",
              "          9.7247e+00,  7.6075e+00, -3.3235e+00,  1.0402e+00,  5.5027e+00],\n",
              "        [ 8.6440e-01,  4.3723e-01, -1.3125e-01,  1.4140e+00,  1.3060e+00,\n",
              "          2.5485e+00, -1.5852e+00, -2.9134e+00,  4.2577e+00,  1.7875e+00],\n",
              "        [ 8.4663e-02,  2.8677e+00, -1.0295e-02, -9.0726e+00, -7.5316e+00,\n",
              "          9.8697e+00,  4.3574e+00, -3.9192e+00,  4.4480e+00,  8.2432e+00],\n",
              "        [ 2.3739e+00, -1.7865e+00, -4.1154e+00, -5.6015e+00, -2.1182e+00,\n",
              "          6.0888e+00, -1.9739e+00,  9.5616e-01,  3.2031e+00,  8.8034e+00],\n",
              "        [-9.4762e-01, -1.0887e+00,  2.2296e+00, -9.9711e+00, -3.7293e+00,\n",
              "          4.5088e+00,  4.5728e+00, -1.5625e+00, -2.3460e-01,  5.9767e+00],\n",
              "        [-2.9760e+00,  1.8567e+00,  2.4568e+00,  2.0507e+00, -1.9230e+00,\n",
              "          1.4474e+01,  2.2741e+00,  2.0451e+00,  1.0064e+01,  8.2783e+00],\n",
              "        [-2.4368e-01, -1.1484e+00, -4.5640e+00,  5.2146e-01, -5.7347e-01,\n",
              "          3.7535e+00, -1.5496e+00,  1.9188e+00,  1.4406e+00,  2.5550e-01],\n",
              "        [-1.8774e-01, -1.8845e+00,  4.5976e+00, -1.6569e+00,  5.6766e-01,\n",
              "          4.3632e+00,  2.2061e+00, -1.5629e+00, -1.1330e+00,  3.0404e+00],\n",
              "        [ 7.2500e+00,  1.5849e+00, -6.1801e+00, -2.6082e+00,  3.3717e-01,\n",
              "          2.8617e+00, -8.4047e-01, -3.2826e+00,  2.3648e+00,  6.2404e+00],\n",
              "        [ 2.5794e+00,  2.1343e+00, -5.0338e+00, -2.0683e+00, -6.5370e+00,\n",
              "          2.8974e+00,  5.2067e-02, -3.8696e+00,  6.0905e+00,  5.7740e+00],\n",
              "        [-1.3221e+00, -1.6170e+00,  3.2687e+00,  4.5557e-01, -4.0909e+00,\n",
              "         -2.1547e+00,  2.4649e+00,  1.1982e+00,  3.9779e-01, -2.4668e+00],\n",
              "        [ 1.1177e+00,  2.9299e+00, -1.0999e+00,  3.4309e+00, -2.1712e+00,\n",
              "          4.4501e+00,  2.6733e+00, -5.9145e+00, -1.2183e-01, -1.3768e+00],\n",
              "        [ 3.1265e-01,  4.1600e+00, -8.8148e-01,  3.7655e+00, -4.4760e-03,\n",
              "          1.0503e+01, -2.4177e+00, -4.5645e+00,  1.5744e+01,  9.5199e+00],\n",
              "        [-3.2077e+00, -7.8456e-01,  2.6463e+00, -5.8562e+00,  4.0092e-01,\n",
              "          4.7013e+00,  2.4368e+00,  8.3285e-01, -7.4648e-01,  1.0120e+00],\n",
              "        [-1.1090e+00,  1.3073e+00, -1.9795e-01, -5.6636e+00, -2.4332e+00,\n",
              "          1.0291e+01,  2.2462e-01,  1.4254e+00,  2.7375e+00,  2.8625e+00],\n",
              "        [-1.0860e+00, -2.3312e+00,  3.7206e+00, -5.1900e+00, -4.1457e+00,\n",
              "          2.5697e+00,  3.0242e+00,  2.9617e-01,  2.7397e+00,  3.7772e+00],\n",
              "        [-3.0456e-02,  5.9291e+00,  2.9745e+00,  1.1942e+01,  2.1948e+00,\n",
              "          1.6503e+01,  1.4193e+00, -1.0481e+00,  1.1466e+01,  6.5922e+00],\n",
              "        [-2.4406e+00,  1.0640e+00,  3.1897e+00, -2.6854e+00, -1.5482e+00,\n",
              "          7.5093e+00,  4.2360e+00, -2.2334e+00,  4.6716e+00,  5.1856e+00],\n",
              "        [-5.0695e-01, -2.2588e-02, -1.0425e+00, -2.6495e+00,  1.6453e+00,\n",
              "          8.6956e+00,  3.2429e+00,  3.3170e+00,  2.0240e+00,  5.7398e-01],\n",
              "        [ 1.0081e+00,  3.7088e+00,  1.7230e+00,  8.6322e+00,  1.9314e+00,\n",
              "          7.5839e+00, -3.0864e+00, -1.2258e+00,  1.0567e+01,  7.1290e+00],\n",
              "        [-1.4531e+00,  3.6362e+00,  1.0021e+00,  1.6409e+00,  1.2939e+00,\n",
              "         -4.2776e+00,  2.0498e+00,  8.0466e-01, -1.7528e+00, -2.7685e-01],\n",
              "        [ 9.7913e-02,  1.0160e+00,  2.8041e+00,  4.5915e+00,  5.8069e+00,\n",
              "          1.2366e+01,  6.1292e-01, -1.7558e+00,  9.0580e+00,  5.7475e+00],\n",
              "        [-4.9894e-01,  6.6645e+00,  3.3447e+00,  4.6121e+00,  1.1543e-01,\n",
              "          3.5912e+00, -2.0734e-01, -1.3508e+00,  3.7918e+00,  1.7325e+00],\n",
              "        [ 6.6421e-01,  3.5216e+00,  4.3841e+00, -7.2862e+00, -2.8282e+00,\n",
              "          7.1207e+00,  1.6784e+00, -3.8448e+00, -7.5498e-01,  4.1294e+00],\n",
              "        [-3.0263e+00,  4.2530e+00,  1.4652e+00, -3.8869e+00,  1.6597e-01,\n",
              "          7.7539e+00,  2.4764e+00, -2.0039e+00,  5.6445e+00,  4.8627e+00],\n",
              "        [-3.6081e+00,  2.5462e-01,  8.5765e-01, -5.5669e+00, -6.2674e+00,\n",
              "          1.6810e+00,  2.9996e+00,  6.5456e-01,  8.1634e-01,  1.3456e+00],\n",
              "        [-1.7433e+00,  1.8088e+00,  8.6103e+00, -6.2491e+00, -3.0908e+00,\n",
              "          1.2191e+01,  5.5715e+00, -9.1171e-01,  3.8524e+00,  8.3627e+00],\n",
              "        [-3.3509e+00,  1.4523e+00,  1.6623e-02, -2.3915e+00, -2.3015e+00,\n",
              "          2.9257e+00, -9.7248e-01,  5.7036e-03,  1.2540e+00,  6.1005e-01],\n",
              "        [-2.0715e+00, -8.8280e-01, -3.8185e+00,  1.0496e+00,  1.2631e+00,\n",
              "          2.3445e+00, -9.2716e-01, -1.9473e+00, -1.4492e+00,  3.8801e+00],\n",
              "        [-1.0098e+00,  1.6268e+00,  7.0774e+00, -3.9481e+00, -2.1849e+00,\n",
              "          1.0763e+01,  4.2552e+00, -1.1795e+00,  5.8369e+00,  1.0902e+00],\n",
              "        [-3.4753e+00,  2.6174e-01,  6.4281e-01, -8.5468e+00, -1.8482e+00,\n",
              "          7.2627e+00,  4.0380e+00,  5.1643e+00, -2.6125e+00,  5.7563e+00]],\n",
              "       device='cuda:0')"
            ]
          },
          "metadata": {},
          "execution_count": 45
        }
      ]
    },
    {
      "cell_type": "code",
      "metadata": {
        "id": "CYkrFbD5YKCq"
      },
      "source": [
        "x.grad # не требует градиента"
      ],
      "execution_count": 42,
      "outputs": []
    },
    {
      "cell_type": "code",
      "metadata": {
        "id": "ouMNnbtXYKCr"
      },
      "source": [
        "y.grad # не требует градиента"
      ],
      "execution_count": 43,
      "outputs": []
    },
    {
      "cell_type": "markdown",
      "metadata": {
        "id": "DIsqxWIvYKCs"
      },
      "source": [
        "**Замечание:** Градиенты помещаются в поле `.grad` тензоров, на которых они вычисляются."
      ]
    },
    {
      "cell_type": "code",
      "metadata": {
        "id": "5wU_TFedYKCt",
        "colab": {
          "base_uri": "https://localhost:8080/"
        },
        "outputId": "64174c17-fb46-4f87-c739-ecf9f02a6795"
      },
      "source": [
        "w1"
      ],
      "execution_count": 46,
      "outputs": [
        {
          "output_type": "execute_result",
          "data": {
            "text/plain": [
              "tensor([[ 0.2135,  0.9221, -1.5343],\n",
              "        [ 0.8610, -0.5559, -0.5378],\n",
              "        [ 0.7369,  1.0625,  0.9929]], device='cuda:0', requires_grad=True)"
            ]
          },
          "metadata": {},
          "execution_count": 46
        }
      ]
    },
    {
      "cell_type": "code",
      "metadata": {
        "id": "UhhUL-mwTKaZ"
      },
      "source": [
        "with torch.no_grad():   # когда валидируем нам не надо, например, считать градиенты\n",
        "  \n",
        "    pass"
      ],
      "execution_count": null,
      "outputs": []
    },
    {
      "cell_type": "markdown",
      "metadata": {
        "id": "J094WEHQYKCv"
      },
      "source": [
        "## Дополнительные материалы"
      ]
    },
    {
      "cell_type": "markdown",
      "metadata": {
        "id": "ftVUTfvUYKCv"
      },
      "source": [
        "*1). Official PyTorch tutorials: https://pytorch.org/tutorials/beginner/blitz/tensor_tutorial.html#sphx-glr-beginner-blitz-tensor-tutorial-py*"
      ]
    },
    {
      "cell_type": "markdown",
      "metadata": {
        "id": "ovymy5F6YKCw"
      },
      "source": [
        "*2). arXiv article about the deep learning frameworks comparison: https://arxiv.org/pdf/1511.06435.pdf*"
      ]
    },
    {
      "cell_type": "markdown",
      "metadata": {
        "id": "VXEEowQAYKCx"
      },
      "source": [
        "*3). Useful repo with different tutorials: https://github.com/yunjey/pytorch-tutorial*"
      ]
    },
    {
      "cell_type": "markdown",
      "metadata": {
        "id": "9cROZcrYYKC0"
      },
      "source": [
        "*4). Facebook AI Research (main contributor of PyTorch) website: https://facebook.ai/developers/tools*"
      ]
    }
  ]
}